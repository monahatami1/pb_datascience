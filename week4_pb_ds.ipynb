{
  "nbformat": 4,
  "nbformat_minor": 0,
  "metadata": {
    "colab": {
      "provenance": [],
      "authorship_tag": "ABX9TyN7gqLMc9qjb/YS4mjHxnNA",
      "include_colab_link": true
    },
    "kernelspec": {
      "name": "python3",
      "display_name": "Python 3"
    },
    "language_info": {
      "name": "python"
    }
  },
  "cells": [
    {
      "cell_type": "markdown",
      "metadata": {
        "id": "view-in-github",
        "colab_type": "text"
      },
      "source": [
        "<a href=\"https://colab.research.google.com/github/monahatami1/pb_datascience/blob/master/week4_pb_ds.ipynb\" target=\"_parent\"><img src=\"https://colab.research.google.com/assets/colab-badge.svg\" alt=\"Open In Colab\"/></a>"
      ]
    },
    {
      "cell_type": "code",
      "execution_count": null,
      "metadata": {
        "id": "xhSvj5ZH7OrT"
      },
      "outputs": [],
      "source": [
        "from google.colab import files"
      ]
    },
    {
      "cell_type": "code",
      "source": [
        "uploaded = files.upload()"
      ],
      "metadata": {
        "colab": {
          "base_uri": "https://localhost:8080/",
          "height": 73
        },
        "id": "Y-cY_rBiAogy",
        "outputId": "7db96c57-14e1-4839-b2fc-1fa868fad5ba"
      },
      "execution_count": null,
      "outputs": [
        {
          "output_type": "display_data",
          "data": {
            "text/plain": [
              "<IPython.core.display.HTML object>"
            ],
            "text/html": [
              "\n",
              "     <input type=\"file\" id=\"files-97ea8727-58d8-4885-98b4-1703a0a18675\" name=\"files[]\" multiple disabled\n",
              "        style=\"border:none\" />\n",
              "     <output id=\"result-97ea8727-58d8-4885-98b4-1703a0a18675\">\n",
              "      Upload widget is only available when the cell has been executed in the\n",
              "      current browser session. Please rerun this cell to enable.\n",
              "      </output>\n",
              "      <script>// Copyright 2017 Google LLC\n",
              "//\n",
              "// Licensed under the Apache License, Version 2.0 (the \"License\");\n",
              "// you may not use this file except in compliance with the License.\n",
              "// You may obtain a copy of the License at\n",
              "//\n",
              "//      http://www.apache.org/licenses/LICENSE-2.0\n",
              "//\n",
              "// Unless required by applicable law or agreed to in writing, software\n",
              "// distributed under the License is distributed on an \"AS IS\" BASIS,\n",
              "// WITHOUT WARRANTIES OR CONDITIONS OF ANY KIND, either express or implied.\n",
              "// See the License for the specific language governing permissions and\n",
              "// limitations under the License.\n",
              "\n",
              "/**\n",
              " * @fileoverview Helpers for google.colab Python module.\n",
              " */\n",
              "(function(scope) {\n",
              "function span(text, styleAttributes = {}) {\n",
              "  const element = document.createElement('span');\n",
              "  element.textContent = text;\n",
              "  for (const key of Object.keys(styleAttributes)) {\n",
              "    element.style[key] = styleAttributes[key];\n",
              "  }\n",
              "  return element;\n",
              "}\n",
              "\n",
              "// Max number of bytes which will be uploaded at a time.\n",
              "const MAX_PAYLOAD_SIZE = 100 * 1024;\n",
              "\n",
              "function _uploadFiles(inputId, outputId) {\n",
              "  const steps = uploadFilesStep(inputId, outputId);\n",
              "  const outputElement = document.getElementById(outputId);\n",
              "  // Cache steps on the outputElement to make it available for the next call\n",
              "  // to uploadFilesContinue from Python.\n",
              "  outputElement.steps = steps;\n",
              "\n",
              "  return _uploadFilesContinue(outputId);\n",
              "}\n",
              "\n",
              "// This is roughly an async generator (not supported in the browser yet),\n",
              "// where there are multiple asynchronous steps and the Python side is going\n",
              "// to poll for completion of each step.\n",
              "// This uses a Promise to block the python side on completion of each step,\n",
              "// then passes the result of the previous step as the input to the next step.\n",
              "function _uploadFilesContinue(outputId) {\n",
              "  const outputElement = document.getElementById(outputId);\n",
              "  const steps = outputElement.steps;\n",
              "\n",
              "  const next = steps.next(outputElement.lastPromiseValue);\n",
              "  return Promise.resolve(next.value.promise).then((value) => {\n",
              "    // Cache the last promise value to make it available to the next\n",
              "    // step of the generator.\n",
              "    outputElement.lastPromiseValue = value;\n",
              "    return next.value.response;\n",
              "  });\n",
              "}\n",
              "\n",
              "/**\n",
              " * Generator function which is called between each async step of the upload\n",
              " * process.\n",
              " * @param {string} inputId Element ID of the input file picker element.\n",
              " * @param {string} outputId Element ID of the output display.\n",
              " * @return {!Iterable<!Object>} Iterable of next steps.\n",
              " */\n",
              "function* uploadFilesStep(inputId, outputId) {\n",
              "  const inputElement = document.getElementById(inputId);\n",
              "  inputElement.disabled = false;\n",
              "\n",
              "  const outputElement = document.getElementById(outputId);\n",
              "  outputElement.innerHTML = '';\n",
              "\n",
              "  const pickedPromise = new Promise((resolve) => {\n",
              "    inputElement.addEventListener('change', (e) => {\n",
              "      resolve(e.target.files);\n",
              "    });\n",
              "  });\n",
              "\n",
              "  const cancel = document.createElement('button');\n",
              "  inputElement.parentElement.appendChild(cancel);\n",
              "  cancel.textContent = 'Cancel upload';\n",
              "  const cancelPromise = new Promise((resolve) => {\n",
              "    cancel.onclick = () => {\n",
              "      resolve(null);\n",
              "    };\n",
              "  });\n",
              "\n",
              "  // Wait for the user to pick the files.\n",
              "  const files = yield {\n",
              "    promise: Promise.race([pickedPromise, cancelPromise]),\n",
              "    response: {\n",
              "      action: 'starting',\n",
              "    }\n",
              "  };\n",
              "\n",
              "  cancel.remove();\n",
              "\n",
              "  // Disable the input element since further picks are not allowed.\n",
              "  inputElement.disabled = true;\n",
              "\n",
              "  if (!files) {\n",
              "    return {\n",
              "      response: {\n",
              "        action: 'complete',\n",
              "      }\n",
              "    };\n",
              "  }\n",
              "\n",
              "  for (const file of files) {\n",
              "    const li = document.createElement('li');\n",
              "    li.append(span(file.name, {fontWeight: 'bold'}));\n",
              "    li.append(span(\n",
              "        `(${file.type || 'n/a'}) - ${file.size} bytes, ` +\n",
              "        `last modified: ${\n",
              "            file.lastModifiedDate ? file.lastModifiedDate.toLocaleDateString() :\n",
              "                                    'n/a'} - `));\n",
              "    const percent = span('0% done');\n",
              "    li.appendChild(percent);\n",
              "\n",
              "    outputElement.appendChild(li);\n",
              "\n",
              "    const fileDataPromise = new Promise((resolve) => {\n",
              "      const reader = new FileReader();\n",
              "      reader.onload = (e) => {\n",
              "        resolve(e.target.result);\n",
              "      };\n",
              "      reader.readAsArrayBuffer(file);\n",
              "    });\n",
              "    // Wait for the data to be ready.\n",
              "    let fileData = yield {\n",
              "      promise: fileDataPromise,\n",
              "      response: {\n",
              "        action: 'continue',\n",
              "      }\n",
              "    };\n",
              "\n",
              "    // Use a chunked sending to avoid message size limits. See b/62115660.\n",
              "    let position = 0;\n",
              "    do {\n",
              "      const length = Math.min(fileData.byteLength - position, MAX_PAYLOAD_SIZE);\n",
              "      const chunk = new Uint8Array(fileData, position, length);\n",
              "      position += length;\n",
              "\n",
              "      const base64 = btoa(String.fromCharCode.apply(null, chunk));\n",
              "      yield {\n",
              "        response: {\n",
              "          action: 'append',\n",
              "          file: file.name,\n",
              "          data: base64,\n",
              "        },\n",
              "      };\n",
              "\n",
              "      let percentDone = fileData.byteLength === 0 ?\n",
              "          100 :\n",
              "          Math.round((position / fileData.byteLength) * 100);\n",
              "      percent.textContent = `${percentDone}% done`;\n",
              "\n",
              "    } while (position < fileData.byteLength);\n",
              "  }\n",
              "\n",
              "  // All done.\n",
              "  yield {\n",
              "    response: {\n",
              "      action: 'complete',\n",
              "    }\n",
              "  };\n",
              "}\n",
              "\n",
              "scope.google = scope.google || {};\n",
              "scope.google.colab = scope.google.colab || {};\n",
              "scope.google.colab._files = {\n",
              "  _uploadFiles,\n",
              "  _uploadFilesContinue,\n",
              "};\n",
              "})(self);\n",
              "</script> "
            ]
          },
          "metadata": {}
        },
        {
          "output_type": "stream",
          "name": "stdout",
          "text": [
            "Saving df.csv to df.csv\n"
          ]
        }
      ]
    },
    {
      "cell_type": "code",
      "source": [
        "import pandas as pd"
      ],
      "metadata": {
        "id": "SKscac6FAqoO"
      },
      "execution_count": null,
      "outputs": []
    },
    {
      "cell_type": "code",
      "source": [
        "df = pd.read_csv('df.csv')\n"
      ],
      "metadata": {
        "id": "KlmQwo1IBSQN"
      },
      "execution_count": null,
      "outputs": []
    },
    {
      "cell_type": "code",
      "source": [
        "df\n"
      ],
      "metadata": {
        "colab": {
          "base_uri": "https://localhost:8080/",
          "height": 770
        },
        "id": "QHtdJ7xyBW6T",
        "outputId": "12f8d239-1a45-490b-b160-63464cd89566"
      },
      "execution_count": null,
      "outputs": [
        {
          "output_type": "execute_result",
          "data": {
            "text/plain": [
              "                                     Job Title               Salary Estimate  \\\n",
              "0                        Senior Data Scientist  $111K-$181K (Glassdoor est.)   \n",
              "1            Data Scientist, Product Analytics  $111K-$181K (Glassdoor est.)   \n",
              "2                         Data Science Manager  $111K-$181K (Glassdoor est.)   \n",
              "3                                 Data Analyst  $111K-$181K (Glassdoor est.)   \n",
              "4                       Director, Data Science  $111K-$181K (Glassdoor est.)   \n",
              "...                                        ...                           ...   \n",
              "5887       Manufacturing Data Analyst Engineer  $42K - $76K (Glassdoor est.)   \n",
              "5888                            Data Scientist                            -1   \n",
              "5889  Supply Chain Consultant - Data Scientist                            -1   \n",
              "5890                     Data Science Engineer                            -1   \n",
              "5891      Data Scientist/ Full Stack Developer            $65 - $72 Per Hour   \n",
              "\n",
              "      Rating                          Company Name       Location  \\\n",
              "0        3.5                           Hopper\\n3.5   New York, NY   \n",
              "1        4.5                          Noom US\\n4.5   New York, NY   \n",
              "2       -1.0                              Decode_M   New York, NY   \n",
              "3        3.4                 Sapphire Digital\\n3.4  Lyndhurst, NJ   \n",
              "4        3.4       United Entertainment Group\\n3.4   New York, NY   \n",
              "...      ...                                   ...            ...   \n",
              "5887     3.6                      Hose Master\\n3.6     Euclid, OH   \n",
              "5888     4.9                 Bluetree Network\\n4.9    Madison, WI   \n",
              "5889     4.0  Kimberly-Clark Corporation, LLC\\n4.0     Neenah, WI   \n",
              "5890     4.0            AE Business Solutions\\n4.0    Madison, WI   \n",
              "5891     3.7                           Epitec\\n3.7  Wisconsin, WI   \n",
              "\n",
              "                        Size Founded  Type of ownership  \\\n",
              "0      501 to 1000 employees    2007  Company - Private   \n",
              "1     1001 to 5000 employees    2008  Company - Private   \n",
              "2          1 to 50 employees      -1            Unknown   \n",
              "3       201 to 500 employees    2019  Company - Private   \n",
              "4        51 to 200 employees    2007  Company - Private   \n",
              "...                      ...     ...                ...   \n",
              "5887    201 to 500 Employees    1982  Company - Private   \n",
              "5888                      -1      -1                 -1   \n",
              "5889        10000+ Employees    1872   Company - Public   \n",
              "5890     51 to 200 Employees    1949  Company - Private   \n",
              "5891  1001 to 5000 Employees    1978  Company - Private   \n",
              "\n",
              "                                   Industry                  Sector  \\\n",
              "0                           Travel Agencies        Travel & Tourism   \n",
              "1                 Health, Beauty, & Fitness       Consumer Services   \n",
              "2                                        -1                      -1   \n",
              "3                                  Internet  Information Technology   \n",
              "4                   Advertising & Marketing       Business Services   \n",
              "...                                     ...                     ...   \n",
              "5887  Electrical & Electronic Manufacturing           Manufacturing   \n",
              "5888                                     -1                      -1   \n",
              "5889        Consumer Products Manufacturing           Manufacturing   \n",
              "5890           Computer Hardware & Software  Information Technology   \n",
              "5891                 Staffing & Outsourcing       Business Services   \n",
              "\n",
              "                         Revenue  \n",
              "0       Unknown / Non-Applicable  \n",
              "1       Unknown / Non-Applicable  \n",
              "2       Unknown / Non-Applicable  \n",
              "3       Unknown / Non-Applicable  \n",
              "4       Unknown / Non-Applicable  \n",
              "...                          ...  \n",
              "5887    Unknown / Non-Applicable  \n",
              "5888                          -1  \n",
              "5889          $10+ billion (USD)  \n",
              "5890    $25 to $50 million (USD)  \n",
              "5891  $100 to $500 million (USD)  \n",
              "\n",
              "[5892 rows x 11 columns]"
            ],
            "text/html": [
              "\n",
              "  <div id=\"df-cb3731d0-1987-41e5-a860-4f445c2bc164\" class=\"colab-df-container\">\n",
              "    <div>\n",
              "<style scoped>\n",
              "    .dataframe tbody tr th:only-of-type {\n",
              "        vertical-align: middle;\n",
              "    }\n",
              "\n",
              "    .dataframe tbody tr th {\n",
              "        vertical-align: top;\n",
              "    }\n",
              "\n",
              "    .dataframe thead th {\n",
              "        text-align: right;\n",
              "    }\n",
              "</style>\n",
              "<table border=\"1\" class=\"dataframe\">\n",
              "  <thead>\n",
              "    <tr style=\"text-align: right;\">\n",
              "      <th></th>\n",
              "      <th>Job Title</th>\n",
              "      <th>Salary Estimate</th>\n",
              "      <th>Rating</th>\n",
              "      <th>Company Name</th>\n",
              "      <th>Location</th>\n",
              "      <th>Size</th>\n",
              "      <th>Founded</th>\n",
              "      <th>Type of ownership</th>\n",
              "      <th>Industry</th>\n",
              "      <th>Sector</th>\n",
              "      <th>Revenue</th>\n",
              "    </tr>\n",
              "  </thead>\n",
              "  <tbody>\n",
              "    <tr>\n",
              "      <th>0</th>\n",
              "      <td>Senior Data Scientist</td>\n",
              "      <td>$111K-$181K (Glassdoor est.)</td>\n",
              "      <td>3.5</td>\n",
              "      <td>Hopper\\n3.5</td>\n",
              "      <td>New York, NY</td>\n",
              "      <td>501 to 1000 employees</td>\n",
              "      <td>2007</td>\n",
              "      <td>Company - Private</td>\n",
              "      <td>Travel Agencies</td>\n",
              "      <td>Travel &amp; Tourism</td>\n",
              "      <td>Unknown / Non-Applicable</td>\n",
              "    </tr>\n",
              "    <tr>\n",
              "      <th>1</th>\n",
              "      <td>Data Scientist, Product Analytics</td>\n",
              "      <td>$111K-$181K (Glassdoor est.)</td>\n",
              "      <td>4.5</td>\n",
              "      <td>Noom US\\n4.5</td>\n",
              "      <td>New York, NY</td>\n",
              "      <td>1001 to 5000 employees</td>\n",
              "      <td>2008</td>\n",
              "      <td>Company - Private</td>\n",
              "      <td>Health, Beauty, &amp; Fitness</td>\n",
              "      <td>Consumer Services</td>\n",
              "      <td>Unknown / Non-Applicable</td>\n",
              "    </tr>\n",
              "    <tr>\n",
              "      <th>2</th>\n",
              "      <td>Data Science Manager</td>\n",
              "      <td>$111K-$181K (Glassdoor est.)</td>\n",
              "      <td>-1.0</td>\n",
              "      <td>Decode_M</td>\n",
              "      <td>New York, NY</td>\n",
              "      <td>1 to 50 employees</td>\n",
              "      <td>-1</td>\n",
              "      <td>Unknown</td>\n",
              "      <td>-1</td>\n",
              "      <td>-1</td>\n",
              "      <td>Unknown / Non-Applicable</td>\n",
              "    </tr>\n",
              "    <tr>\n",
              "      <th>3</th>\n",
              "      <td>Data Analyst</td>\n",
              "      <td>$111K-$181K (Glassdoor est.)</td>\n",
              "      <td>3.4</td>\n",
              "      <td>Sapphire Digital\\n3.4</td>\n",
              "      <td>Lyndhurst, NJ</td>\n",
              "      <td>201 to 500 employees</td>\n",
              "      <td>2019</td>\n",
              "      <td>Company - Private</td>\n",
              "      <td>Internet</td>\n",
              "      <td>Information Technology</td>\n",
              "      <td>Unknown / Non-Applicable</td>\n",
              "    </tr>\n",
              "    <tr>\n",
              "      <th>4</th>\n",
              "      <td>Director, Data Science</td>\n",
              "      <td>$111K-$181K (Glassdoor est.)</td>\n",
              "      <td>3.4</td>\n",
              "      <td>United Entertainment Group\\n3.4</td>\n",
              "      <td>New York, NY</td>\n",
              "      <td>51 to 200 employees</td>\n",
              "      <td>2007</td>\n",
              "      <td>Company - Private</td>\n",
              "      <td>Advertising &amp; Marketing</td>\n",
              "      <td>Business Services</td>\n",
              "      <td>Unknown / Non-Applicable</td>\n",
              "    </tr>\n",
              "    <tr>\n",
              "      <th>...</th>\n",
              "      <td>...</td>\n",
              "      <td>...</td>\n",
              "      <td>...</td>\n",
              "      <td>...</td>\n",
              "      <td>...</td>\n",
              "      <td>...</td>\n",
              "      <td>...</td>\n",
              "      <td>...</td>\n",
              "      <td>...</td>\n",
              "      <td>...</td>\n",
              "      <td>...</td>\n",
              "    </tr>\n",
              "    <tr>\n",
              "      <th>5887</th>\n",
              "      <td>Manufacturing Data Analyst Engineer</td>\n",
              "      <td>$42K - $76K (Glassdoor est.)</td>\n",
              "      <td>3.6</td>\n",
              "      <td>Hose Master\\n3.6</td>\n",
              "      <td>Euclid, OH</td>\n",
              "      <td>201 to 500 Employees</td>\n",
              "      <td>1982</td>\n",
              "      <td>Company - Private</td>\n",
              "      <td>Electrical &amp; Electronic Manufacturing</td>\n",
              "      <td>Manufacturing</td>\n",
              "      <td>Unknown / Non-Applicable</td>\n",
              "    </tr>\n",
              "    <tr>\n",
              "      <th>5888</th>\n",
              "      <td>Data Scientist</td>\n",
              "      <td>-1</td>\n",
              "      <td>4.9</td>\n",
              "      <td>Bluetree Network\\n4.9</td>\n",
              "      <td>Madison, WI</td>\n",
              "      <td>-1</td>\n",
              "      <td>-1</td>\n",
              "      <td>-1</td>\n",
              "      <td>-1</td>\n",
              "      <td>-1</td>\n",
              "      <td>-1</td>\n",
              "    </tr>\n",
              "    <tr>\n",
              "      <th>5889</th>\n",
              "      <td>Supply Chain Consultant - Data Scientist</td>\n",
              "      <td>-1</td>\n",
              "      <td>4.0</td>\n",
              "      <td>Kimberly-Clark Corporation, LLC\\n4.0</td>\n",
              "      <td>Neenah, WI</td>\n",
              "      <td>10000+ Employees</td>\n",
              "      <td>1872</td>\n",
              "      <td>Company - Public</td>\n",
              "      <td>Consumer Products Manufacturing</td>\n",
              "      <td>Manufacturing</td>\n",
              "      <td>$10+ billion (USD)</td>\n",
              "    </tr>\n",
              "    <tr>\n",
              "      <th>5890</th>\n",
              "      <td>Data Science Engineer</td>\n",
              "      <td>-1</td>\n",
              "      <td>4.0</td>\n",
              "      <td>AE Business Solutions\\n4.0</td>\n",
              "      <td>Madison, WI</td>\n",
              "      <td>51 to 200 Employees</td>\n",
              "      <td>1949</td>\n",
              "      <td>Company - Private</td>\n",
              "      <td>Computer Hardware &amp; Software</td>\n",
              "      <td>Information Technology</td>\n",
              "      <td>$25 to $50 million (USD)</td>\n",
              "    </tr>\n",
              "    <tr>\n",
              "      <th>5891</th>\n",
              "      <td>Data Scientist/ Full Stack Developer</td>\n",
              "      <td>$65 - $72 Per Hour</td>\n",
              "      <td>3.7</td>\n",
              "      <td>Epitec\\n3.7</td>\n",
              "      <td>Wisconsin, WI</td>\n",
              "      <td>1001 to 5000 Employees</td>\n",
              "      <td>1978</td>\n",
              "      <td>Company - Private</td>\n",
              "      <td>Staffing &amp; Outsourcing</td>\n",
              "      <td>Business Services</td>\n",
              "      <td>$100 to $500 million (USD)</td>\n",
              "    </tr>\n",
              "  </tbody>\n",
              "</table>\n",
              "<p>5892 rows × 11 columns</p>\n",
              "</div>\n",
              "    <div class=\"colab-df-buttons\">\n",
              "\n",
              "  <div class=\"colab-df-container\">\n",
              "    <button class=\"colab-df-convert\" onclick=\"convertToInteractive('df-cb3731d0-1987-41e5-a860-4f445c2bc164')\"\n",
              "            title=\"Convert this dataframe to an interactive table.\"\n",
              "            style=\"display:none;\">\n",
              "\n",
              "  <svg xmlns=\"http://www.w3.org/2000/svg\" height=\"24px\" viewBox=\"0 -960 960 960\">\n",
              "    <path d=\"M120-120v-720h720v720H120Zm60-500h600v-160H180v160Zm220 220h160v-160H400v160Zm0 220h160v-160H400v160ZM180-400h160v-160H180v160Zm440 0h160v-160H620v160ZM180-180h160v-160H180v160Zm440 0h160v-160H620v160Z\"/>\n",
              "  </svg>\n",
              "    </button>\n",
              "\n",
              "  <style>\n",
              "    .colab-df-container {\n",
              "      display:flex;\n",
              "      gap: 12px;\n",
              "    }\n",
              "\n",
              "    .colab-df-convert {\n",
              "      background-color: #E8F0FE;\n",
              "      border: none;\n",
              "      border-radius: 50%;\n",
              "      cursor: pointer;\n",
              "      display: none;\n",
              "      fill: #1967D2;\n",
              "      height: 32px;\n",
              "      padding: 0 0 0 0;\n",
              "      width: 32px;\n",
              "    }\n",
              "\n",
              "    .colab-df-convert:hover {\n",
              "      background-color: #E2EBFA;\n",
              "      box-shadow: 0px 1px 2px rgba(60, 64, 67, 0.3), 0px 1px 3px 1px rgba(60, 64, 67, 0.15);\n",
              "      fill: #174EA6;\n",
              "    }\n",
              "\n",
              "    .colab-df-buttons div {\n",
              "      margin-bottom: 4px;\n",
              "    }\n",
              "\n",
              "    [theme=dark] .colab-df-convert {\n",
              "      background-color: #3B4455;\n",
              "      fill: #D2E3FC;\n",
              "    }\n",
              "\n",
              "    [theme=dark] .colab-df-convert:hover {\n",
              "      background-color: #434B5C;\n",
              "      box-shadow: 0px 1px 3px 1px rgba(0, 0, 0, 0.15);\n",
              "      filter: drop-shadow(0px 1px 2px rgba(0, 0, 0, 0.3));\n",
              "      fill: #FFFFFF;\n",
              "    }\n",
              "  </style>\n",
              "\n",
              "    <script>\n",
              "      const buttonEl =\n",
              "        document.querySelector('#df-cb3731d0-1987-41e5-a860-4f445c2bc164 button.colab-df-convert');\n",
              "      buttonEl.style.display =\n",
              "        google.colab.kernel.accessAllowed ? 'block' : 'none';\n",
              "\n",
              "      async function convertToInteractive(key) {\n",
              "        const element = document.querySelector('#df-cb3731d0-1987-41e5-a860-4f445c2bc164');\n",
              "        const dataTable =\n",
              "          await google.colab.kernel.invokeFunction('convertToInteractive',\n",
              "                                                    [key], {});\n",
              "        if (!dataTable) return;\n",
              "\n",
              "        const docLinkHtml = 'Like what you see? Visit the ' +\n",
              "          '<a target=\"_blank\" href=https://colab.research.google.com/notebooks/data_table.ipynb>data table notebook</a>'\n",
              "          + ' to learn more about interactive tables.';\n",
              "        element.innerHTML = '';\n",
              "        dataTable['output_type'] = 'display_data';\n",
              "        await google.colab.output.renderOutput(dataTable, element);\n",
              "        const docLink = document.createElement('div');\n",
              "        docLink.innerHTML = docLinkHtml;\n",
              "        element.appendChild(docLink);\n",
              "      }\n",
              "    </script>\n",
              "  </div>\n",
              "\n",
              "\n",
              "<div id=\"df-ace2cda2-a81a-44ef-a3d8-e76f6d32c67a\">\n",
              "  <button class=\"colab-df-quickchart\" onclick=\"quickchart('df-ace2cda2-a81a-44ef-a3d8-e76f6d32c67a')\"\n",
              "            title=\"Suggest charts.\"\n",
              "            style=\"display:none;\">\n",
              "\n",
              "<svg xmlns=\"http://www.w3.org/2000/svg\" height=\"24px\"viewBox=\"0 0 24 24\"\n",
              "     width=\"24px\">\n",
              "    <g>\n",
              "        <path d=\"M19 3H5c-1.1 0-2 .9-2 2v14c0 1.1.9 2 2 2h14c1.1 0 2-.9 2-2V5c0-1.1-.9-2-2-2zM9 17H7v-7h2v7zm4 0h-2V7h2v10zm4 0h-2v-4h2v4z\"/>\n",
              "    </g>\n",
              "</svg>\n",
              "  </button>\n",
              "\n",
              "<style>\n",
              "  .colab-df-quickchart {\n",
              "      --bg-color: #E8F0FE;\n",
              "      --fill-color: #1967D2;\n",
              "      --hover-bg-color: #E2EBFA;\n",
              "      --hover-fill-color: #174EA6;\n",
              "      --disabled-fill-color: #AAA;\n",
              "      --disabled-bg-color: #DDD;\n",
              "  }\n",
              "\n",
              "  [theme=dark] .colab-df-quickchart {\n",
              "      --bg-color: #3B4455;\n",
              "      --fill-color: #D2E3FC;\n",
              "      --hover-bg-color: #434B5C;\n",
              "      --hover-fill-color: #FFFFFF;\n",
              "      --disabled-bg-color: #3B4455;\n",
              "      --disabled-fill-color: #666;\n",
              "  }\n",
              "\n",
              "  .colab-df-quickchart {\n",
              "    background-color: var(--bg-color);\n",
              "    border: none;\n",
              "    border-radius: 50%;\n",
              "    cursor: pointer;\n",
              "    display: none;\n",
              "    fill: var(--fill-color);\n",
              "    height: 32px;\n",
              "    padding: 0;\n",
              "    width: 32px;\n",
              "  }\n",
              "\n",
              "  .colab-df-quickchart:hover {\n",
              "    background-color: var(--hover-bg-color);\n",
              "    box-shadow: 0 1px 2px rgba(60, 64, 67, 0.3), 0 1px 3px 1px rgba(60, 64, 67, 0.15);\n",
              "    fill: var(--button-hover-fill-color);\n",
              "  }\n",
              "\n",
              "  .colab-df-quickchart-complete:disabled,\n",
              "  .colab-df-quickchart-complete:disabled:hover {\n",
              "    background-color: var(--disabled-bg-color);\n",
              "    fill: var(--disabled-fill-color);\n",
              "    box-shadow: none;\n",
              "  }\n",
              "\n",
              "  .colab-df-spinner {\n",
              "    border: 2px solid var(--fill-color);\n",
              "    border-color: transparent;\n",
              "    border-bottom-color: var(--fill-color);\n",
              "    animation:\n",
              "      spin 1s steps(1) infinite;\n",
              "  }\n",
              "\n",
              "  @keyframes spin {\n",
              "    0% {\n",
              "      border-color: transparent;\n",
              "      border-bottom-color: var(--fill-color);\n",
              "      border-left-color: var(--fill-color);\n",
              "    }\n",
              "    20% {\n",
              "      border-color: transparent;\n",
              "      border-left-color: var(--fill-color);\n",
              "      border-top-color: var(--fill-color);\n",
              "    }\n",
              "    30% {\n",
              "      border-color: transparent;\n",
              "      border-left-color: var(--fill-color);\n",
              "      border-top-color: var(--fill-color);\n",
              "      border-right-color: var(--fill-color);\n",
              "    }\n",
              "    40% {\n",
              "      border-color: transparent;\n",
              "      border-right-color: var(--fill-color);\n",
              "      border-top-color: var(--fill-color);\n",
              "    }\n",
              "    60% {\n",
              "      border-color: transparent;\n",
              "      border-right-color: var(--fill-color);\n",
              "    }\n",
              "    80% {\n",
              "      border-color: transparent;\n",
              "      border-right-color: var(--fill-color);\n",
              "      border-bottom-color: var(--fill-color);\n",
              "    }\n",
              "    90% {\n",
              "      border-color: transparent;\n",
              "      border-bottom-color: var(--fill-color);\n",
              "    }\n",
              "  }\n",
              "</style>\n",
              "\n",
              "  <script>\n",
              "    async function quickchart(key) {\n",
              "      const quickchartButtonEl =\n",
              "        document.querySelector('#' + key + ' button');\n",
              "      quickchartButtonEl.disabled = true;  // To prevent multiple clicks.\n",
              "      quickchartButtonEl.classList.add('colab-df-spinner');\n",
              "      try {\n",
              "        const charts = await google.colab.kernel.invokeFunction(\n",
              "            'suggestCharts', [key], {});\n",
              "      } catch (error) {\n",
              "        console.error('Error during call to suggestCharts:', error);\n",
              "      }\n",
              "      quickchartButtonEl.classList.remove('colab-df-spinner');\n",
              "      quickchartButtonEl.classList.add('colab-df-quickchart-complete');\n",
              "    }\n",
              "    (() => {\n",
              "      let quickchartButtonEl =\n",
              "        document.querySelector('#df-ace2cda2-a81a-44ef-a3d8-e76f6d32c67a button');\n",
              "      quickchartButtonEl.style.display =\n",
              "        google.colab.kernel.accessAllowed ? 'block' : 'none';\n",
              "    })();\n",
              "  </script>\n",
              "</div>\n",
              "    </div>\n",
              "  </div>\n"
            ]
          },
          "metadata": {},
          "execution_count": 5
        }
      ]
    },
    {
      "cell_type": "code",
      "source": [
        "set(df['Salary Estimate'])"
      ],
      "metadata": {
        "colab": {
          "base_uri": "https://localhost:8080/"
        },
        "id": "2k6czAsHdlXu",
        "outputId": "064458b6-9967-4083-c547-fa9c42ee743e"
      },
      "execution_count": null,
      "outputs": [
        {
          "output_type": "execute_result",
          "data": {
            "text/plain": [
              "{'$59K - $107K (Glassdoor est.)',\n",
              " '$106K - $168K (Glassdoor est.)',\n",
              " '$84K - $168K (Glassdoor est.)',\n",
              " '$73K - $129K (Glassdoor est.)',\n",
              " '$113K-$180K (Glassdoor est.)',\n",
              " '$87K - $140K (Glassdoor est.)',\n",
              " '$38K - $73K (Glassdoor est.)',\n",
              " '$53K - $91K (Glassdoor est.)',\n",
              " '$98K - $179K (Glassdoor est.)',\n",
              " '$47K-$84K (Glassdoor est.)',\n",
              " '$143K-$237K (Glassdoor est.)',\n",
              " '$72K - $136K (Glassdoor est.)',\n",
              " '$84K - $144K (Glassdoor est.)',\n",
              " '$78K - $127K (Glassdoor est.)',\n",
              " '$30K - $56K (Glassdoor est.)',\n",
              " '$61K - $102K (Glassdoor est.)',\n",
              " '$75K - $124K (Glassdoor est.)',\n",
              " '$82K - $143K (Glassdoor est.)',\n",
              " '$119K-$147K (Glassdoor est.)',\n",
              " '$42K - $78K (Glassdoor est.)',\n",
              " '$43K - $87K (Glassdoor est.)',\n",
              " '$69K-$144K (Glassdoor est.)',\n",
              " '$65K - $123K (Glassdoor est.)',\n",
              " '$48K - $89K (Glassdoor est.)',\n",
              " '$25 - $41 Per Hour(Glassdoor est.)',\n",
              " '$65K - $156K (Glassdoor est.)',\n",
              " '$120K - $166K (Glassdoor est.)',\n",
              " '$45K - $96K (Glassdoor est.)',\n",
              " '$82K - $146K (Glassdoor est.)',\n",
              " '$78K - $146K (Glassdoor est.)',\n",
              " '$74K - $86K (Glassdoor est.)',\n",
              " '$59K - $108K (Glassdoor est.)',\n",
              " '$82K - $150K (Glassdoor est.)',\n",
              " '$41K - $60K (Glassdoor est.)',\n",
              " '$72K - $125K (Glassdoor est.)',\n",
              " '$58K - $113K (Glassdoor est.)',\n",
              " '$41K - $85K (Glassdoor est.)',\n",
              " '$46K-$80K (Glassdoor est.)',\n",
              " '$85K - $162K (Glassdoor est.)',\n",
              " '$40K - $80K (Glassdoor est.)',\n",
              " '$42K - $87K (Glassdoor est.)',\n",
              " '$77K - $129K (Glassdoor est.)',\n",
              " '$78K - $148K (Glassdoor est.)',\n",
              " '$70K - $131K (Glassdoor est.)',\n",
              " '$129K - $211K (Glassdoor est.)',\n",
              " '$61K - $132K (Glassdoor est.)',\n",
              " '$65K - $124K (Glassdoor est.)',\n",
              " '$90K - $145K (Glassdoor est.)',\n",
              " '$73K - $119K (Glassdoor est.)',\n",
              " '$76K - $143K (Glassdoor est.)',\n",
              " '$94K - $188K (Glassdoor est.)',\n",
              " '$68K - $139K (Glassdoor est.)',\n",
              " '$83K - $145K (Glassdoor est.)',\n",
              " '$75K - $142K (Glassdoor est.)',\n",
              " '$92K-$144K (Glassdoor est.)',\n",
              " '$77K - $154K (Glassdoor est.)',\n",
              " '$102K - $118K (Glassdoor est.)',\n",
              " '$64K - $111K (Glassdoor est.)',\n",
              " '$97K - $168K (Glassdoor est.)',\n",
              " '$60K - $128K (Glassdoor est.)',\n",
              " '$42K - $93K (Glassdoor est.)',\n",
              " '$98K-$152K (Glassdoor est.)',\n",
              " '$98K - $159K (Glassdoor est.)',\n",
              " '$73K - $117K (Glassdoor est.)',\n",
              " '$77K - $109K (Glassdoor est.)',\n",
              " '$87K - $161K (Glassdoor est.)',\n",
              " '$124K - $208K (Glassdoor est.)',\n",
              " '$47K - $95K (Glassdoor est.)',\n",
              " '$70K - $122K (Glassdoor est.)',\n",
              " '$116K - $192K (Glassdoor est.)',\n",
              " '$44K - $104K (Glassdoor est.)',\n",
              " '$94K - $174K (Glassdoor est.)',\n",
              " '$113K - $140K (Glassdoor est.)',\n",
              " '$52K - $92K (Glassdoor est.)',\n",
              " '$73K - $120K (Glassdoor est.)',\n",
              " '$64K - $129K (Glassdoor est.)',\n",
              " '$86K - $155K (Glassdoor est.)',\n",
              " '$55K - $104K (Glassdoor est.)',\n",
              " '$40K - $89K (Glassdoor est.)',\n",
              " '$61K - $122K (Glassdoor est.)',\n",
              " '$56K - $115K (Glassdoor est.)',\n",
              " '$90K - $149K (Glassdoor est.)',\n",
              " '$58K - $75K (Glassdoor est.)',\n",
              " '$135K - $174K (Glassdoor est.)',\n",
              " '$44K - $96K (Glassdoor est.)',\n",
              " '$86K - $152K (Glassdoor est.)',\n",
              " '$36K - $69K (Glassdoor est.)',\n",
              " '$57K - $77K (Glassdoor est.)',\n",
              " '$52K - $104K (Glassdoor est.)',\n",
              " '$91K - $166K (Glassdoor est.)',\n",
              " '$93K - $172K (Glassdoor est.)',\n",
              " '$96K - $152K (Glassdoor est.)',\n",
              " '$100K-$152K (Glassdoor est.)',\n",
              " '$40K - $76K (Glassdoor est.)',\n",
              " '$86K - $186K (Glassdoor est.)',\n",
              " '$62K - $114K (Glassdoor est.)',\n",
              " '$79K-$130K (Glassdoor est.)',\n",
              " '$77K - $141K (Glassdoor est.)',\n",
              " '$57K - $101K (Glassdoor est.)',\n",
              " '$95K - $151K (Glassdoor est.)',\n",
              " '$59K - $115K (Glassdoor est.)',\n",
              " '$49K - $87K (Glassdoor est.)',\n",
              " '$47K - $89K (Glassdoor est.)',\n",
              " '$101K - $171K (Glassdoor est.)',\n",
              " '$87K - $142K (Glassdoor est.)',\n",
              " '$94K - $130K (Glassdoor est.)',\n",
              " '$39K-$81K (Glassdoor est.)',\n",
              " '$67K - $135K (Glassdoor est.)',\n",
              " '$46K - $83K (Glassdoor est.)',\n",
              " '$86K - $115K (Glassdoor est.)',\n",
              " '$46K - $103K (Glassdoor est.)',\n",
              " '$49K-$78K (Glassdoor est.)',\n",
              " '$58K - $106K (Glassdoor est.)',\n",
              " '$56K - $116K (Glassdoor est.)',\n",
              " '$54K - $105K (Glassdoor est.)',\n",
              " '$57K - $97K (Glassdoor est.)',\n",
              " '$66K - $134K (Glassdoor est.)',\n",
              " '$76K - $209K (Glassdoor est.)',\n",
              " '$42K - $80K (Glassdoor est.)',\n",
              " '$74K - $123K (Glassdoor est.)',\n",
              " '$59K - $114K (Glassdoor est.)',\n",
              " '$81K - $150K (Glassdoor est.)',\n",
              " '$55K - $122K (Glassdoor est.)',\n",
              " '$129K-$210K (Glassdoor est.)',\n",
              " '$87K - $160K (Glassdoor est.)',\n",
              " '$63K - $106K (Glassdoor est.)',\n",
              " '$60K - $115K (Glassdoor est.)',\n",
              " '$69K - $124K (Glassdoor est.)',\n",
              " '$40K - $74K (Glassdoor est.)',\n",
              " '$96K - $182K (Glassdoor est.)',\n",
              " '$42K - $82K (Glassdoor est.)',\n",
              " '$89K - $149K (Glassdoor est.)',\n",
              " '$56K - $111K (Glassdoor est.)',\n",
              " '$145K-$176K (Glassdoor est.)',\n",
              " '$84K - $98K (Glassdoor est.)',\n",
              " '$58K - $96K (Glassdoor est.)',\n",
              " '$64K - $121K (Glassdoor est.)',\n",
              " '$45K - $89K (Glassdoor est.)',\n",
              " '$76K-$125K (Glassdoor est.)',\n",
              " '$51K - $91K (Glassdoor est.)',\n",
              " '$40K - $60K (Glassdoor est.)',\n",
              " '$98K-$160K (Glassdoor est.)',\n",
              " '$70K - $103K (Glassdoor est.)',\n",
              " '$111K - $196K (Glassdoor est.)',\n",
              " '$56K - $108K (Glassdoor est.)',\n",
              " '$35K - $67K (Glassdoor est.)',\n",
              " '$40K-$73K (Glassdoor est.)',\n",
              " '$41K - $84K (Glassdoor est.)',\n",
              " '$80K - $155K (Glassdoor est.)',\n",
              " '$58K - $119K (Glassdoor est.)',\n",
              " '$85K - $99K (Glassdoor est.)',\n",
              " '$55K-$113K (Glassdoor est.)',\n",
              " '$36K - $68K (Glassdoor est.)',\n",
              " '$51K - $92K (Glassdoor est.)',\n",
              " '$113K-$184K (Glassdoor est.)',\n",
              " '$70K - $127K (Glassdoor est.)',\n",
              " '$75K - $128K (Glassdoor est.)',\n",
              " '$66K - $112K (Glassdoor est.)',\n",
              " '$38K - $62K (Glassdoor est.)',\n",
              " '$78K - $138K (Glassdoor est.)',\n",
              " '$53K - $109K (Glassdoor est.)',\n",
              " '$89K - $151K (Glassdoor est.)',\n",
              " '$55K - $110K (Glassdoor est.)',\n",
              " '$76K - $156K (Glassdoor est.)',\n",
              " '$63K - $115K (Glassdoor est.)',\n",
              " '$49K - $88K (Glassdoor est.)',\n",
              " '$77K - $112K (Glassdoor est.)',\n",
              " '$105K - $167K (Glassdoor est.)',\n",
              " '$56K - $84K (Glassdoor est.)',\n",
              " '$42K - $73K (Glassdoor est.)',\n",
              " '$56K - $117K (Glassdoor est.)',\n",
              " '$96K - $190K (Glassdoor est.)',\n",
              " '$62K - $109K (Glassdoor est.)',\n",
              " '$41K - $88K (Glassdoor est.)',\n",
              " '$103K - $133K (Glassdoor est.)',\n",
              " '$75K - $133K (Glassdoor est.)',\n",
              " '$68K - $113K (Glassdoor est.)',\n",
              " '$43K - $82K (Glassdoor est.)',\n",
              " '$129K - $208K (Glassdoor est.)',\n",
              " '$77K - $131K (Glassdoor est.)',\n",
              " '$79K - $163K (Glassdoor est.)',\n",
              " '$102K - $178K (Glassdoor est.)',\n",
              " '$108K - $174K (Glassdoor est.)',\n",
              " '$48K - $103K (Glassdoor est.)',\n",
              " '$87K - $177K (Glassdoor est.)',\n",
              " '$50K - $70K (Glassdoor est.)',\n",
              " '$40K - $69K (Glassdoor est.)',\n",
              " '$78K - $158K (Glassdoor est.)',\n",
              " '$49K - $85K (Glassdoor est.)',\n",
              " '$77K - $148K (Glassdoor est.)',\n",
              " '$59K - $136K (Glassdoor est.)',\n",
              " '-1',\n",
              " '$114K-$144K (Glassdoor est.)',\n",
              " '$49K - $92K (Glassdoor est.)',\n",
              " '$98K - $139K (Glassdoor est.)',\n",
              " '$54K - $115K (Glassdoor est.)',\n",
              " '$67K - $119K (Glassdoor est.)',\n",
              " '$79K - $144K (Glassdoor est.)',\n",
              " '$85K - $96K (Glassdoor est.)',\n",
              " '$92K - $160K (Glassdoor est.)',\n",
              " '$66K - $132K (Glassdoor est.)',\n",
              " '$65K - $141K (Glassdoor est.)',\n",
              " '$55K - $97K (Glassdoor est.)',\n",
              " '$65K - $113K (Glassdoor est.)',\n",
              " '$51K - $90K (Glassdoor est.)',\n",
              " '$66K - $122K (Glassdoor est.)',\n",
              " '$90K - $151K (Glassdoor est.)',\n",
              " '$74K - $130K (Glassdoor est.)',\n",
              " '$12K-$111K (Glassdoor est.)',\n",
              " '$57K - $110K (Glassdoor est.)',\n",
              " '$58K - $102K (Glassdoor est.)',\n",
              " '$75K - $148K (Glassdoor est.)',\n",
              " '$104K - $182K (Glassdoor est.)',\n",
              " '$100K - $160K (Glassdoor est.)',\n",
              " '$75K - $89K (Glassdoor est.)',\n",
              " '$56K - $97K (Glassdoor est.)',\n",
              " '$84K - $162K (Glassdoor est.)',\n",
              " '$89K - $156K (Glassdoor est.)',\n",
              " '$106K - $111K (Glassdoor est.)',\n",
              " '$52K - $80K (Glassdoor est.)',\n",
              " '$46K - $94K (Glassdoor est.)',\n",
              " '$92K - $161K (Glassdoor est.)',\n",
              " '$76K - $126K (Glassdoor est.)',\n",
              " '$70K - $136K (Glassdoor est.)',\n",
              " '$79K - $148K (Glassdoor est.)',\n",
              " '$64K - $105K (Glassdoor est.)',\n",
              " '$114K-$185K (Glassdoor est.)',\n",
              " '$93K - $179K (Glassdoor est.)',\n",
              " '$92K - $182K (Glassdoor est.)',\n",
              " '$89K - $166K (Glassdoor est.)',\n",
              " '$91K-$105K (Glassdoor est.)',\n",
              " '$93K - $164K (Glassdoor est.)',\n",
              " '$45K-$106K (Glassdoor est.)',\n",
              " '$68K - $108K (Glassdoor est.)',\n",
              " '$53K - $130K (Glassdoor est.)',\n",
              " '$62K - $108K (Glassdoor est.)',\n",
              " '$76K - $137K (Glassdoor est.)',\n",
              " '$45K - $102K (Glassdoor est.)',\n",
              " '$103K - $189K (Glassdoor est.)',\n",
              " '$37K - $76K (Glassdoor est.)',\n",
              " '$35K - $66K (Glassdoor est.)',\n",
              " '$64K - $134K (Glassdoor est.)',\n",
              " '$94K - $149K (Glassdoor est.)',\n",
              " '$92K - $159K (Glassdoor est.)',\n",
              " '$70K - $125K (Glassdoor est.)',\n",
              " '$87K - $154K (Glassdoor est.)',\n",
              " '$66K - $121K (Glassdoor est.)',\n",
              " '$90K-$175K (Glassdoor est.)',\n",
              " '$46K - $48K (Glassdoor est.)',\n",
              " '$71K - $105K (Glassdoor est.)',\n",
              " '$64K - $113K (Glassdoor est.)',\n",
              " '$50K - $81K (Glassdoor est.)',\n",
              " '$85K - $140K (Glassdoor est.)',\n",
              " '$74K - $126K (Glassdoor est.)',\n",
              " '$80K - $132K (Glassdoor est.)',\n",
              " '$77K - $144K (Glassdoor est.)',\n",
              " '$104K - $225K (Glassdoor est.)',\n",
              " '$81K - $147K (Glassdoor est.)',\n",
              " '$71K - $89K (Glassdoor est.)',\n",
              " '$81K - $132K (Glassdoor est.)',\n",
              " '$61K - $87K (Glassdoor est.)',\n",
              " '$95K - $162K (Glassdoor est.)',\n",
              " '$72K - $101K (Glassdoor est.)',\n",
              " '$77K - $147K (Glassdoor est.)',\n",
              " '$81K - $138K (Glassdoor est.)',\n",
              " '$93K - $121K (Glassdoor est.)',\n",
              " '$74K - $136K (Glassdoor est.)',\n",
              " '$100K - $170K (Glassdoor est.)',\n",
              " '$48K-$89K (Glassdoor est.)',\n",
              " '$91K - $169K (Glassdoor est.)',\n",
              " '$73K - $127K (Glassdoor est.)',\n",
              " '$103K - $179K (Glassdoor est.)',\n",
              " '$61K - $113K (Glassdoor est.)',\n",
              " '$72K - $151K (Glassdoor est.)',\n",
              " '$68K - $111K (Glassdoor est.)',\n",
              " '$71K - $130K (Glassdoor est.)',\n",
              " '$103K - $163K (Glassdoor est.)',\n",
              " '$83K - $148K (Glassdoor est.)',\n",
              " '$72K - $146K (Glassdoor est.)',\n",
              " '$58K - $118K (Glassdoor est.)',\n",
              " '$67K - $113K (Glassdoor est.)',\n",
              " '$59K - $102K (Glassdoor est.)',\n",
              " '$44K - $94K (Glassdoor est.)',\n",
              " '$47K - $91K (Glassdoor est.)',\n",
              " '$73K - $147K (Glassdoor est.)',\n",
              " '$111K - $214K (Glassdoor est.)',\n",
              " '$96K - $154K (Glassdoor est.)',\n",
              " '$105K - $132K (Glassdoor est.)',\n",
              " '$39K - $71K (Glassdoor est.)',\n",
              " '$107K - $202K (Glassdoor est.)',\n",
              " '$39K - $74K (Glassdoor est.)',\n",
              " '$82K-$141K (Glassdoor est.)',\n",
              " '$53K - $76K (Glassdoor est.)',\n",
              " '$68K - $122K (Glassdoor est.)',\n",
              " '$83K - $116K (Glassdoor est.)',\n",
              " '$88K - $150K (Glassdoor est.)',\n",
              " '$52K - $105K (Glassdoor est.)',\n",
              " '$69K - $214K (Glassdoor est.)',\n",
              " '$67K - $109K (Glassdoor est.)',\n",
              " '$64K - $127K (Glassdoor est.)',\n",
              " '$74K - $128K (Glassdoor est.)',\n",
              " '$62K - $126K (Glassdoor est.)',\n",
              " '$78K - $147K (Glassdoor est.)',\n",
              " '$94K-$166K (Glassdoor est.)',\n",
              " '$93K - $131K (Glassdoor est.)',\n",
              " '$116K-$152K (Glassdoor est.)',\n",
              " '$73K - $141K (Glassdoor est.)',\n",
              " '$86K - $137K (Glassdoor est.)',\n",
              " '$80K - $159K (Glassdoor est.)',\n",
              " '$71K - $119K (Glassdoor est.)',\n",
              " '$81K - $165K (Glassdoor est.)',\n",
              " '$99K - $206K (Glassdoor est.)',\n",
              " '$51K - $101K (Glassdoor est.)',\n",
              " '$74K - $134K (Glassdoor est.)',\n",
              " '$65K - $133K (Glassdoor est.)',\n",
              " '$46K - $91K (Glassdoor est.)',\n",
              " '$88K - $138K (Glassdoor est.)',\n",
              " '$124K - $147K (Glassdoor est.)',\n",
              " '$82K - $132K (Glassdoor est.)',\n",
              " '$55K - $111K (Glassdoor est.)',\n",
              " '$75K - $122K (Glassdoor est.)',\n",
              " '$45K-$78K (Glassdoor est.)',\n",
              " '$27K - $49K (Glassdoor est.)',\n",
              " '$52K - $99K (Glassdoor est.)',\n",
              " '$78K - $97K (Glassdoor est.)',\n",
              " '$92K - $151K (Glassdoor est.)',\n",
              " '$68K - $141K (Glassdoor est.)',\n",
              " '$94K - $155K (Glassdoor est.)',\n",
              " '$41K - $82K (Glassdoor est.)',\n",
              " '$35K - $63K (Glassdoor est.)',\n",
              " '$52K - $82K (Glassdoor est.)',\n",
              " '$60K - $116K (Glassdoor est.)',\n",
              " '$59K - $131K (Glassdoor est.)',\n",
              " '$102K - $165K (Glassdoor est.)',\n",
              " '$47K-$73K (Glassdoor est.)',\n",
              " '$123K - $195K (Glassdoor est.)',\n",
              " '$58K - $103K (Glassdoor est.)',\n",
              " '$112K - $186K (Glassdoor est.)',\n",
              " '$94K - $152K (Glassdoor est.)',\n",
              " '$72K - $130K (Glassdoor est.)',\n",
              " '$71K - $115K (Glassdoor est.)',\n",
              " '$49K - $96K (Glassdoor est.)',\n",
              " '$53K - $98K (Glassdoor est.)',\n",
              " '$73K - $128K (Glassdoor est.)',\n",
              " '$46K - $89K (Glassdoor est.)',\n",
              " '$53K - $117K (Glassdoor est.)',\n",
              " '$115K - $138K (Glassdoor est.)',\n",
              " '$63K - $105K (Glassdoor est.)',\n",
              " '$83K - $143K (Glassdoor est.)',\n",
              " '$62K - $119K (Glassdoor est.)',\n",
              " '$68K - $116K (Glassdoor est.)',\n",
              " '$72K - $141K (Glassdoor est.)',\n",
              " '$53K - $119K (Glassdoor est.)',\n",
              " '$84K - $153K (Glassdoor est.)',\n",
              " '$60K - $101K (Glassdoor est.)',\n",
              " '$103K - $147K (Glassdoor est.)',\n",
              " '$110K - $143K (Glassdoor est.)',\n",
              " '$65 - $72 Per Hour',\n",
              " '$73K - $125K (Glassdoor est.)',\n",
              " '$82K - $140K (Glassdoor est.)',\n",
              " '$89K - $148K (Glassdoor est.)',\n",
              " '$78K - $136K (Glassdoor est.)',\n",
              " '$66K - $118K (Glassdoor est.)',\n",
              " '$54K-$92K (Glassdoor est.)',\n",
              " '$101K - $179K (Glassdoor est.)',\n",
              " '$44K - $97K (Glassdoor est.)',\n",
              " '$101K - $116K (Glassdoor est.)',\n",
              " '$116K - $199K (Glassdoor est.)',\n",
              " '$79K - $157K (Glassdoor est.)',\n",
              " '$87K - $167K (Glassdoor est.)',\n",
              " '$62K - $103K (Glassdoor est.)',\n",
              " '$85K - $156K (Glassdoor est.)',\n",
              " '$39K - $68K (Glassdoor est.)',\n",
              " '$73K - $131K (Glassdoor est.)',\n",
              " '$55K - $115K (Glassdoor est.)',\n",
              " '$74K - $142K (Glassdoor est.)',\n",
              " '$61K - $114K (Glassdoor est.)',\n",
              " '$64K - $115K (Glassdoor est.)',\n",
              " '$87K - $157K (Glassdoor est.)',\n",
              " '$45K - $98K (Glassdoor est.)',\n",
              " '$100K - $159K (Glassdoor est.)',\n",
              " '$76K - $135K (Glassdoor est.)',\n",
              " '$125K - $197K (Glassdoor est.)',\n",
              " '$31K-$56K (Glassdoor est.)',\n",
              " '$73K - $118K (Glassdoor est.)',\n",
              " '$57K - $120K (Glassdoor est.)',\n",
              " '$53K - $95K (Glassdoor est.)',\n",
              " '$33K - $68K (Glassdoor est.)',\n",
              " '$57K - $130K (Glassdoor est.)',\n",
              " '$76K - $133K (Glassdoor est.)',\n",
              " '$71K - $125K (Glassdoor est.)',\n",
              " '$97K - $164K (Glassdoor est.)',\n",
              " '$31K - $66K (Glassdoor est.)',\n",
              " '$58K - $79K (Glassdoor est.)',\n",
              " '$99K-$174K (Glassdoor est.)',\n",
              " '$76K-$147K (Glassdoor est.)',\n",
              " '$59K - $100K (Glassdoor est.)',\n",
              " '$75K - $103K (Glassdoor est.)',\n",
              " '$94K - $145K (Glassdoor est.)',\n",
              " '$111K - $180K (Glassdoor est.)',\n",
              " '$87K - $129K (Glassdoor est.)',\n",
              " '$56K - $102K (Glassdoor est.)',\n",
              " '$85K - $151K (Glassdoor est.)',\n",
              " '$44K - $91K (Glassdoor est.)',\n",
              " '$100K-$172K (Glassdoor est.)',\n",
              " '$41K - $77K (Glassdoor est.)',\n",
              " '$92K - $147K (Glassdoor est.)',\n",
              " '$83K-$105K (Glassdoor est.)',\n",
              " '$92K - $172K (Glassdoor est.)',\n",
              " '$43K - $73K (Glassdoor est.)',\n",
              " '$60K - $102K (Glassdoor est.)',\n",
              " '$90K - $131K (Glassdoor est.)',\n",
              " '$77K - $135K (Glassdoor est.)',\n",
              " '$108K - $144K (Glassdoor est.)',\n",
              " '$50K - $89K (Glassdoor est.)',\n",
              " '$77K - $134K (Glassdoor est.)',\n",
              " '$76K - $142K (Glassdoor est.)',\n",
              " '$44K-$80K (Glassdoor est.)',\n",
              " '$88K - $99K (Glassdoor est.)',\n",
              " '$81K - $174K (Glassdoor est.)',\n",
              " '$39K-$71K (Glassdoor est.)',\n",
              " '$73K - $133K (Glassdoor est.)',\n",
              " '$93K - $147K (Glassdoor est.)',\n",
              " '$61K - $74K (Glassdoor est.)',\n",
              " '$82K - $161K (Glassdoor est.)',\n",
              " '$141K-$225K (Glassdoor est.)',\n",
              " '$117K - $162K (Glassdoor est.)',\n",
              " '$51K - $95K (Glassdoor est.)',\n",
              " '$147K - $166K (Glassdoor est.)',\n",
              " '$69K - $120K (Glassdoor est.)',\n",
              " '$170K - $286K (Glassdoor est.)',\n",
              " '$102K - $195K (Glassdoor est.)',\n",
              " '$93K-$149K (Glassdoor est.)',\n",
              " '$119K-$188K (Glassdoor est.)',\n",
              " '$71K - $142K (Glassdoor est.)',\n",
              " '$114K - $132K (Glassdoor est.)',\n",
              " '$148K-$174K (Glassdoor est.)',\n",
              " '$55K-$117K (Glassdoor est.)',\n",
              " '$70K - $126K (Glassdoor est.)',\n",
              " '$78K - $163K (Glassdoor est.)',\n",
              " '$48K - $77K (Glassdoor est.)',\n",
              " '$98K - $160K (Glassdoor est.)',\n",
              " '$80K - $91K (Glassdoor est.)',\n",
              " '$60K - $118K (Glassdoor est.)',\n",
              " '$132K - $148K (Glassdoor est.)',\n",
              " '$97K - $155K (Glassdoor est.)',\n",
              " '$44K - $84K (Glassdoor est.)',\n",
              " '$69K - $139K (Glassdoor est.)',\n",
              " '$65K - $118K (Glassdoor est.)',\n",
              " '$97K - $103K (Glassdoor est.)',\n",
              " '$84K - $134K (Glassdoor est.)',\n",
              " '$66K - $113K (Glassdoor est.)',\n",
              " '$30K - $52K (Glassdoor est.)',\n",
              " '$66K - $142K (Glassdoor est.)',\n",
              " '$75K-$149K (Glassdoor est.)',\n",
              " '$78K - $120K (Glassdoor est.)',\n",
              " '$57K - $108K (Glassdoor est.)',\n",
              " '$60K - $117K (Glassdoor est.)',\n",
              " '$110K-$169K (Glassdoor est.)',\n",
              " '$80K - $136K (Glassdoor est.)',\n",
              " '$50K - $108K (Glassdoor est.)',\n",
              " '$41K-$74K (Glassdoor est.)',\n",
              " '$83K - $153K (Glassdoor est.)',\n",
              " '$52K - $102K (Glassdoor est.)',\n",
              " '$108K - $177K (Glassdoor est.)',\n",
              " '$115K - $153K (Glassdoor est.)',\n",
              " '$106K - $202K (Glassdoor est.)',\n",
              " '$47K - $83K (Glassdoor est.)',\n",
              " '$39K - $86K (Glassdoor est.)',\n",
              " '$114K - $123K (Glassdoor est.)',\n",
              " '$50K - $88K (Glassdoor est.)',\n",
              " '$91K - $162K (Glassdoor est.)',\n",
              " '$61K - $126K (Glassdoor est.)',\n",
              " '$49K - $90K (Glassdoor est.)',\n",
              " '$81K - $136K (Glassdoor est.)',\n",
              " '$150K-$169K (Glassdoor est.)',\n",
              " '$122K - $205K (Glassdoor est.)',\n",
              " '$49K - $86K (Glassdoor est.)',\n",
              " '$99K-$173K (Glassdoor est.)',\n",
              " '$135K-$214K (Glassdoor est.)',\n",
              " '$42K - $79K (Glassdoor est.)',\n",
              " '$104K - $188K (Glassdoor est.)',\n",
              " '$119K - $190K (Glassdoor est.)',\n",
              " '$63K - $143K (Glassdoor est.)',\n",
              " '$50K - $101K (Glassdoor est.)',\n",
              " '$70K - $123K (Glassdoor est.)',\n",
              " '$72K - $137K (Glassdoor est.)',\n",
              " '$109K - $177K (Glassdoor est.)',\n",
              " '$91K - $173K (Glassdoor est.)',\n",
              " '$75K - $131K (Glassdoor est.)',\n",
              " '$49K - $101K (Glassdoor est.)',\n",
              " '$70K - $124K (Glassdoor est.)',\n",
              " '$55K - $108K (Glassdoor est.)',\n",
              " '$78K - $149K (Glassdoor est.)',\n",
              " '$74K - $148K (Glassdoor est.)',\n",
              " '$97K - $160K (Glassdoor est.)',\n",
              " '$78K - $132K (Glassdoor est.)',\n",
              " '$50K - $95K (Glassdoor est.)',\n",
              " '$46K - $92K (Glassdoor est.)',\n",
              " '$77K - $125K (Glassdoor est.)',\n",
              " '$78K - $139K (Glassdoor est.)',\n",
              " '$77K - $136K (Glassdoor est.)',\n",
              " '$68K - $134K (Glassdoor est.)',\n",
              " '$69K - $112K (Glassdoor est.)',\n",
              " '$93K - $162K (Glassdoor est.)',\n",
              " '$70K - $115K (Glassdoor est.)',\n",
              " '$128K - $178K (Glassdoor est.)',\n",
              " '$46K - $82K (Glassdoor est.)',\n",
              " '$59K-$113K (Glassdoor est.)',\n",
              " '$92K - $169K (Glassdoor est.)',\n",
              " '$10-$26 Per Hour(Glassdoor est.)',\n",
              " '$111K - $175K (Glassdoor est.)',\n",
              " '$96K - $183K (Glassdoor est.)',\n",
              " '$75K - $141K (Glassdoor est.)',\n",
              " '$48K - $88K (Glassdoor est.)',\n",
              " '$85K - $174K (Glassdoor est.)',\n",
              " '$83K - $147K (Glassdoor est.)',\n",
              " '$66K - $144K (Glassdoor est.)',\n",
              " '$102K-$179K (Glassdoor est.)',\n",
              " '$120K-$140K (Glassdoor est.)',\n",
              " '$49K-$92K (Glassdoor est.)',\n",
              " '$76K - $167K (Glassdoor est.)',\n",
              " '$97K-$159K (Glassdoor est.)',\n",
              " '$72K-$97K (Glassdoor est.)',\n",
              " '$74K - $121K (Glassdoor est.)',\n",
              " '$68K - $132K (Glassdoor est.)',\n",
              " '$80K - $151K (Glassdoor est.)',\n",
              " '$104K - $121K (Glassdoor est.)',\n",
              " '$102K - $203K (Glassdoor est.)',\n",
              " '$55K - $114K (Glassdoor est.)',\n",
              " '$62K - $116K (Glassdoor est.)',\n",
              " '$60K - $132K (Glassdoor est.)',\n",
              " '$110K - $172K (Glassdoor est.)',\n",
              " '$36K-$71K (Glassdoor est.)',\n",
              " '$55K - $98K (Glassdoor est.)',\n",
              " '$45K - $94K (Glassdoor est.)',\n",
              " '$96K - $170K (Glassdoor est.)',\n",
              " '$74K-$124K (Glassdoor est.)',\n",
              " '$78K - $145K (Glassdoor est.)',\n",
              " '$65K - $111K (Glassdoor est.)',\n",
              " '$51K - $80K (Glassdoor est.)',\n",
              " '$93K - $187K (Glassdoor est.)',\n",
              " '$59K - $113K (Glassdoor est.)',\n",
              " '$132K-$208K (Glassdoor est.)',\n",
              " '$61K - $116K (Glassdoor est.)',\n",
              " '$82K-$129K(Employer est.)',\n",
              " '$85K - $193K (Glassdoor est.)',\n",
              " '$41K - $75K (Glassdoor est.)',\n",
              " '$77K - $162K (Glassdoor est.)',\n",
              " '$95K - $113K (Glassdoor est.)',\n",
              " '$114K-$146K (Glassdoor est.)',\n",
              " '$38K - $69K (Glassdoor est.)',\n",
              " '$35K - $64K (Glassdoor est.)',\n",
              " '$107K - $184K (Glassdoor est.)',\n",
              " '$68K - $105K (Glassdoor est.)',\n",
              " '$77K - $132K (Glassdoor est.)',\n",
              " '$101K - $186K (Glassdoor est.)',\n",
              " '$52K - $111K (Glassdoor est.)',\n",
              " '$47K - $84K (Glassdoor est.)',\n",
              " '$98K - $162K (Glassdoor est.)',\n",
              " '$96K - $185K (Glassdoor est.)',\n",
              " '$82K - $144K (Glassdoor est.)',\n",
              " '$92K - $179K (Glassdoor est.)',\n",
              " '$82K - $116K (Glassdoor est.)',\n",
              " '$50K - $90K (Glassdoor est.)',\n",
              " '$67K - $118K (Glassdoor est.)',\n",
              " '$90K - $171K (Glassdoor est.)',\n",
              " '$48K - $101K (Glassdoor est.)',\n",
              " '$104K - $166K (Glassdoor est.)',\n",
              " '$30K - $70K (Glassdoor est.)',\n",
              " '$80K - $121K (Glassdoor est.)',\n",
              " '$110K - $210K (Glassdoor est.)',\n",
              " '$50K - $102K (Glassdoor est.)',\n",
              " '$73K - $123K (Glassdoor est.)',\n",
              " '$56K - $104K (Glassdoor est.)',\n",
              " '$59K - $111K (Glassdoor est.)',\n",
              " '$78K - $134K (Glassdoor est.)',\n",
              " '$51K - $104K (Glassdoor est.)',\n",
              " '$78K - $153K (Glassdoor est.)',\n",
              " '$52K - $98K (Glassdoor est.)',\n",
              " '$74K-$144K (Glassdoor est.)',\n",
              " '$31K - $55K (Glassdoor est.)',\n",
              " '$138K-$217K (Glassdoor est.)',\n",
              " '$53K - $97K (Glassdoor est.)',\n",
              " '$75K - $144K (Glassdoor est.)',\n",
              " '$75K - $137K (Glassdoor est.)',\n",
              " '$53K - $105K (Glassdoor est.)',\n",
              " '$84K - $160K (Glassdoor est.)',\n",
              " '$79K - $131K (Glassdoor est.)',\n",
              " '$74K - $129K (Glassdoor est.)',\n",
              " '$65K - $89K (Glassdoor est.)',\n",
              " '$40K - $72K (Glassdoor est.)',\n",
              " '$94K - $172K (Glassdoor est.)',\n",
              " '$84K - $156K (Glassdoor est.)',\n",
              " '$71K-$117K (Glassdoor est.)',\n",
              " '$74K - $143K (Glassdoor est.)',\n",
              " '$85K-$159K (Glassdoor est.)',\n",
              " '$72K - $120K (Glassdoor est.)',\n",
              " '$58K - $109K (Glassdoor est.)',\n",
              " '$68K - $133K (Glassdoor est.)',\n",
              " '$61K - $96K (Glassdoor est.)',\n",
              " '$80K - $157K (Glassdoor est.)',\n",
              " '$61K - $119K (Glassdoor est.)',\n",
              " '$91K - $146K (Glassdoor est.)',\n",
              " '$70K - $147K (Glassdoor est.)',\n",
              " '$57K - $111K (Glassdoor est.)',\n",
              " '$73K-$136K (Glassdoor est.)',\n",
              " '$65K - $110K (Glassdoor est.)',\n",
              " '$90K - $170K (Glassdoor est.)',\n",
              " '$87K - $152K (Glassdoor est.)',\n",
              " '$49K - $104K (Glassdoor est.)',\n",
              " '$49K - $91K (Glassdoor est.)',\n",
              " '$112K-$178K (Glassdoor est.)',\n",
              " '$73K-$111K (Glassdoor est.)',\n",
              " '$127K - $202K (Glassdoor est.)',\n",
              " '$80K - $90K (Glassdoor est.)',\n",
              " '$43K - $88K (Glassdoor est.)',\n",
              " '$71K - $132K (Glassdoor est.)',\n",
              " '$79K - $162K (Glassdoor est.)',\n",
              " '$46K - $85K (Glassdoor est.)',\n",
              " '$71K - $139K (Glassdoor est.)',\n",
              " '$121K - $146K (Glassdoor est.)',\n",
              " '$114K - $212K (Glassdoor est.)',\n",
              " '$74K - $153K (Glassdoor est.)',\n",
              " '$61K - $121K (Glassdoor est.)',\n",
              " '$78K - $155K (Glassdoor est.)',\n",
              " '$59K - $99K (Glassdoor est.)',\n",
              " '$55K - $96K (Glassdoor est.)',\n",
              " '$122K - $217K (Glassdoor est.)',\n",
              " '$72K - $116K (Glassdoor est.)',\n",
              " '$81K - $139K (Glassdoor est.)',\n",
              " '$145K - $159K (Glassdoor est.)',\n",
              " '$102K - $166K (Glassdoor est.)',\n",
              " '$69K - $130K (Glassdoor est.)',\n",
              " '$66K - $119K (Glassdoor est.)',\n",
              " '$74K-$140K (Glassdoor est.)',\n",
              " '$73K - $112K (Glassdoor est.)',\n",
              " '$84K - $146K (Glassdoor est.)',\n",
              " '$46K - $105K (Glassdoor est.)',\n",
              " '$37K-$75K (Glassdoor est.)',\n",
              " '$38K - $64K (Glassdoor est.)',\n",
              " '$42K - $92K (Glassdoor est.)',\n",
              " '$60K-$105K (Glassdoor est.)',\n",
              " '$69K - $144K (Glassdoor est.)',\n",
              " '$37K - $69K (Glassdoor est.)',\n",
              " '$83K - $107K (Glassdoor est.)',\n",
              " '$150K-$237K (Glassdoor est.)',\n",
              " '$72K - $134K (Glassdoor est.)',\n",
              " '$73K - $130K (Glassdoor est.)',\n",
              " '$90K - $140K (Glassdoor est.)',\n",
              " '$84K - $99K (Glassdoor est.)',\n",
              " '$84K - $131K (Glassdoor est.)',\n",
              " '$66K - $129K (Glassdoor est.)',\n",
              " '$89K - $172K (Glassdoor est.)',\n",
              " '$75K - $154K (Glassdoor est.)',\n",
              " '$83K - $135K (Glassdoor est.)',\n",
              " '$151K - $161K (Glassdoor est.)',\n",
              " '$58K - $65K (Glassdoor est.)',\n",
              " '$90K - $176K (Glassdoor est.)',\n",
              " '$51K - $108K (Glassdoor est.)',\n",
              " '$52K - $95K (Glassdoor est.)',\n",
              " '$77K - $130K (Glassdoor est.)',\n",
              " '$65K - $137K (Glassdoor est.)',\n",
              " '$53K - $103K (Glassdoor est.)',\n",
              " '$65K-$100K (Glassdoor est.)',\n",
              " '$99K - $192K (Glassdoor est.)',\n",
              " '$95K - $165K (Glassdoor est.)',\n",
              " '$47K - $104K (Glassdoor est.)',\n",
              " '$66K - $141K (Glassdoor est.)',\n",
              " '$42K - $83K (Glassdoor est.)',\n",
              " '$122K - $127K (Glassdoor est.)',\n",
              " '$52K - $108K (Glassdoor est.)',\n",
              " '$50K - $94K (Glassdoor est.)',\n",
              " '$43K - $83K (Glassdoor est.)',\n",
              " '$49K - $99K (Glassdoor est.)',\n",
              " '$53K - $99K (Glassdoor est.)',\n",
              " '$64K - $119K (Glassdoor est.)',\n",
              " '$47K - $86K (Glassdoor est.)',\n",
              " '$60K - $107K (Glassdoor est.)',\n",
              " '$38K - $77K (Glassdoor est.)',\n",
              " '$106K - $126K (Glassdoor est.)',\n",
              " '$54K - $100K (Glassdoor est.)',\n",
              " '$83K - $96K (Glassdoor est.)',\n",
              " '$31K - $44K (Glassdoor est.)',\n",
              " '$47K - $90K (Glassdoor est.)',\n",
              " '$36K - $80K (Glassdoor est.)',\n",
              " '$98K - $192K (Glassdoor est.)',\n",
              " '$110K - $198K (Glassdoor est.)',\n",
              " '$134K - $157K (Glassdoor est.)',\n",
              " '$67K - $132K (Glassdoor est.)',\n",
              " '$55K-$112K (Glassdoor est.)',\n",
              " '$92K - $162K (Glassdoor est.)',\n",
              " '$76K - $125K (Glassdoor est.)',\n",
              " '$45K - $93K (Glassdoor est.)',\n",
              " '$36K - $75K (Glassdoor est.)',\n",
              " '$93K - $168K (Glassdoor est.)',\n",
              " '$102K-$121K (Glassdoor est.)',\n",
              " '$56K - $123K (Glassdoor est.)',\n",
              " '$67K - $134K (Glassdoor est.)',\n",
              " '$65K - $114K (Glassdoor est.)',\n",
              " '$76K - $123K (Glassdoor est.)',\n",
              " '$99K - $171K (Glassdoor est.)',\n",
              " '$77K - $161K (Glassdoor est.)',\n",
              " '$66K - $97K (Glassdoor est.)',\n",
              " '$105K - $188K (Glassdoor est.)',\n",
              " '$46K - $86K (Glassdoor est.)',\n",
              " '$86K-$178K (Glassdoor est.)',\n",
              " '$59K - $118K (Glassdoor est.)',\n",
              " '$85K - $154K (Glassdoor est.)',\n",
              " '$54K - $104K (Glassdoor est.)',\n",
              " '$69K - $133K (Glassdoor est.)',\n",
              " '$102K - $185K (Glassdoor est.)',\n",
              " '$80K - $147K (Glassdoor est.)',\n",
              " '$65K - $126K (Glassdoor est.)',\n",
              " '$54K - $103K (Glassdoor est.)',\n",
              " '$42K - $105K (Glassdoor est.)',\n",
              " '$99K - $179K (Glassdoor est.)',\n",
              " '$43K - $90K (Glassdoor est.)',\n",
              " '$74K - $127K (Glassdoor est.)',\n",
              " '$101K - $175K (Glassdoor est.)',\n",
              " '$113K - $135K (Glassdoor est.)',\n",
              " '$80K - $148K (Glassdoor est.)',\n",
              " '$68K - $114K (Glassdoor est.)',\n",
              " '$58K - $131K (Glassdoor est.)',\n",
              " '$17 - $24 Per Hour(Glassdoor est.)',\n",
              " '$58K - $107K (Glassdoor est.)',\n",
              " '$67K - $136K (Glassdoor est.)',\n",
              " '$54K - $130K (Glassdoor est.)',\n",
              " '$102K-$164K (Glassdoor est.)',\n",
              " '$76K - $146K (Glassdoor est.)',\n",
              " '$99K - $160K (Glassdoor est.)',\n",
              " '$67K - $138K (Glassdoor est.)',\n",
              " '$142K - $225K (Glassdoor est.)',\n",
              " '$61K - $109K (Glassdoor est.)',\n",
              " '$83K - $161K (Glassdoor est.)',\n",
              " '$61K - $107K (Glassdoor est.)',\n",
              " '$74K - $125K (Glassdoor est.)',\n",
              " '$46K - $80K (Glassdoor est.)',\n",
              " '$60K - $104K (Glassdoor est.)',\n",
              " '$81K - $93K (Glassdoor est.)',\n",
              " '$37K - $65K (Glassdoor est.)',\n",
              " '$45K - $85K (Glassdoor est.)',\n",
              " '$86K - $143K (Glassdoor est.)',\n",
              " '$50K - $66K (Glassdoor est.)',\n",
              " '$100K - $179K (Glassdoor est.)',\n",
              " '$36K - $73K (Glassdoor est.)',\n",
              " '$62K-$112K (Glassdoor est.)',\n",
              " '$97K - $162K (Glassdoor est.)',\n",
              " '$67K - $111K (Glassdoor est.)',\n",
              " '$67K - $123K (Glassdoor est.)',\n",
              " '$104K - $176K (Glassdoor est.)',\n",
              " '$77K - $124K (Glassdoor est.)',\n",
              " '$97K-$111K (Glassdoor est.)',\n",
              " '$70K - $140K (Glassdoor est.)',\n",
              " '$86K - $146K (Glassdoor est.)',\n",
              " '$68K - $135K (Glassdoor est.)',\n",
              " '$60K - $133K (Glassdoor est.)',\n",
              " '$78K - $130K (Glassdoor est.)',\n",
              " '$44K - $93K (Glassdoor est.)',\n",
              " '$84K-$156K (Glassdoor est.)',\n",
              " '$77K - $139K (Glassdoor est.)',\n",
              " '$97K - $176K (Glassdoor est.)',\n",
              " '$71K - $146K (Glassdoor est.)',\n",
              " '$83K - $157K (Glassdoor est.)',\n",
              " '$92K - $180K (Glassdoor est.)',\n",
              " '$78K - $133K (Glassdoor est.)',\n",
              " '$57K - $118K (Glassdoor est.)',\n",
              " '$69K - $127K (Glassdoor est.)',\n",
              " '$80K - $123K (Glassdoor est.)',\n",
              " '$110K-$139K (Glassdoor est.)',\n",
              " '$43K - $94K (Glassdoor est.)',\n",
              " '$46K-$82K (Glassdoor est.)',\n",
              " '$81K - $122K (Glassdoor est.)',\n",
              " '$63K - $111K (Glassdoor est.)',\n",
              " '$56K - $93K (Glassdoor est.)',\n",
              " '$73K - $124K (Glassdoor est.)',\n",
              " '$96K - $105K (Glassdoor est.)',\n",
              " '$50K - $93K (Glassdoor est.)',\n",
              " '$56K - $100K (Glassdoor est.)',\n",
              " '$66K - $128K (Glassdoor est.)',\n",
              " '$46K - $88K (Glassdoor est.)',\n",
              " '$67K - $126K (Glassdoor est.)',\n",
              " '$45K - $81K (Glassdoor est.)',\n",
              " '$58K - $105K (Glassdoor est.)',\n",
              " '$79K - $158K (Glassdoor est.)',\n",
              " '$34-$53 Per Hour(Glassdoor est.)',\n",
              " '$95K - $153K (Glassdoor est.)',\n",
              " '$93K - $151K (Glassdoor est.)',\n",
              " '$72K - $113K (Glassdoor est.)',\n",
              " '$57K - $94K (Glassdoor est.)',\n",
              " '$103K - $192K (Glassdoor est.)',\n",
              " '$67K - $128K (Glassdoor est.)',\n",
              " '$41K-$66K (Glassdoor est.)',\n",
              " '$141K - $208K (Glassdoor est.)',\n",
              " '$63K - $107K (Glassdoor est.)',\n",
              " '$65K - $140K (Glassdoor est.)',\n",
              " '$58K - $114K (Glassdoor est.)',\n",
              " '$65K - $135K (Glassdoor est.)',\n",
              " '$41K - $80K (Glassdoor est.)',\n",
              " '$48K-$98K (Glassdoor est.)',\n",
              " '$73K-$102K (Glassdoor est.)',\n",
              " '$45K - $82K (Glassdoor est.)',\n",
              " '$69K - $141K (Glassdoor est.)',\n",
              " '$77K - $140K (Glassdoor est.)',\n",
              " '$62K - $110K (Glassdoor est.)',\n",
              " '$65K - $105K (Glassdoor est.)',\n",
              " '$61K - $124K (Glassdoor est.)',\n",
              " '$93K - $155K (Glassdoor est.)',\n",
              " '$98K - $174K (Glassdoor est.)',\n",
              " '$45K - $99K (Glassdoor est.)',\n",
              " '$68K - $112K (Glassdoor est.)',\n",
              " '$44K - $85K (Glassdoor est.)',\n",
              " '$67K - $122K (Glassdoor est.)',\n",
              " '$111K - $190K (Glassdoor est.)',\n",
              " '$68K - $130K (Glassdoor est.)',\n",
              " '$64K - $107K (Glassdoor est.)',\n",
              " '$111K - $194K (Glassdoor est.)',\n",
              " '$53K - $110K (Glassdoor est.)',\n",
              " '$34K - $70K (Glassdoor est.)',\n",
              " '$71K - $122K (Glassdoor est.)',\n",
              " '$84K-$101K (Glassdoor est.)',\n",
              " '$134K - $222K (Glassdoor est.)',\n",
              " '$59K - $105K (Glassdoor est.)',\n",
              " '$46K - $98K (Glassdoor est.)',\n",
              " '$79K - $152K (Glassdoor est.)',\n",
              " '$97K - $184K (Glassdoor est.)',\n",
              " '$57K - $100K (Glassdoor est.)',\n",
              " '$132K - $166K (Glassdoor est.)',\n",
              " '$89K - $161K (Glassdoor est.)',\n",
              " '$96K-$119K (Glassdoor est.)',\n",
              " '$142K - $168K (Glassdoor est.)',\n",
              " '$47K - $93K (Glassdoor est.)',\n",
              " '$61K - $174K (Glassdoor est.)',\n",
              " '$47K - $85K (Glassdoor est.)',\n",
              " '$70K - $129K (Glassdoor est.)',\n",
              " '$68K-$89K (Glassdoor est.)',\n",
              " '$62K - $105K (Glassdoor est.)',\n",
              " '$89K - $164K (Glassdoor est.)',\n",
              " '$103K - $172K (Glassdoor est.)',\n",
              " '$68K - $123K (Glassdoor est.)',\n",
              " '$47K - $98K (Glassdoor est.)',\n",
              " '$87K - $99K (Glassdoor est.)',\n",
              " '$39K - $73K (Glassdoor est.)',\n",
              " '$63K - $128K (Glassdoor est.)',\n",
              " '$55K - $102K (Glassdoor est.)',\n",
              " '$39K - $77K (Glassdoor est.)',\n",
              " '$46K - $87K (Glassdoor est.)',\n",
              " '$41K - $79K (Glassdoor est.)',\n",
              " '$33K - $69K (Glassdoor est.)',\n",
              " '$72K - $122K (Glassdoor est.)',\n",
              " '$94K - $153K (Glassdoor est.)',\n",
              " '$76K - $145K (Glassdoor est.)',\n",
              " '$112K - $209K (Glassdoor est.)',\n",
              " '$48K - $86K (Glassdoor est.)',\n",
              " '$104K - $180K (Glassdoor est.)',\n",
              " '$74K - $102K (Glassdoor est.)',\n",
              " '$61K - $104K (Glassdoor est.)',\n",
              " '$85K - $105K (Glassdoor est.)',\n",
              " '$71K - $128K (Glassdoor est.)',\n",
              " '$109K - $164K (Glassdoor est.)',\n",
              " '$62K-$127K (Glassdoor est.)',\n",
              " '$68K - $136K (Glassdoor est.)',\n",
              " '$69K - $178K (Glassdoor est.)',\n",
              " '$64K - $120K (Glassdoor est.)',\n",
              " '$70K - $121K (Glassdoor est.)',\n",
              " '$63K - $104K (Glassdoor est.)',\n",
              " '$78K - $125K (Glassdoor est.)',\n",
              " '$55K - $113K (Glassdoor est.)',\n",
              " '$134K - $221K (Glassdoor est.)',\n",
              " '$97K - $169K (Glassdoor est.)',\n",
              " '$54K - $102K (Glassdoor est.)',\n",
              " '$46K - $99K (Glassdoor est.)',\n",
              " '$103K - $158K (Glassdoor est.)',\n",
              " '$65K - $132K (Glassdoor est.)',\n",
              " '$51K - $106K (Glassdoor est.)',\n",
              " '$34K - $71K (Glassdoor est.)',\n",
              " '$46K-$104K (Glassdoor est.)',\n",
              " '$88K - $145K (Glassdoor est.)',\n",
              " '$46K-$91K (Glassdoor est.)',\n",
              " '$85K - $159K (Glassdoor est.)',\n",
              " '$42K - $98K (Glassdoor est.)',\n",
              " '$70K-$154K (Glassdoor est.)',\n",
              " '$105K - $204K (Glassdoor est.)',\n",
              " '$74K - $140K (Glassdoor est.)',\n",
              " '$84K - $140K (Glassdoor est.)',\n",
              " '$83K-$154K (Glassdoor est.)',\n",
              " '$67K - $120K (Glassdoor est.)',\n",
              " '$87K - $170K (Glassdoor est.)',\n",
              " '$96K - $136K (Glassdoor est.)',\n",
              " '$84K - $154K (Glassdoor est.)',\n",
              " '$70K-$129K (Glassdoor est.)',\n",
              " '$74K - $150K (Glassdoor est.)',\n",
              " '$28K - $52K (Glassdoor est.)',\n",
              " '$72K - $129K (Glassdoor est.)',\n",
              " '$47K-$82K (Glassdoor est.)',\n",
              " '$81K - $144K (Glassdoor est.)',\n",
              " '$49K - $98K (Glassdoor est.)',\n",
              " '$99K - $173K (Glassdoor est.)',\n",
              " '$89K - $162K (Glassdoor est.)',\n",
              " '$82K - $173K (Glassdoor est.)',\n",
              " '$121K - $195K (Glassdoor est.)',\n",
              " '$75K-$143K (Glassdoor est.)',\n",
              " '$100K - $189K (Glassdoor est.)',\n",
              " '$73K - $122K (Glassdoor est.)',\n",
              " '$60K - $100K (Glassdoor est.)',\n",
              " '$65K - $130K (Glassdoor est.)',\n",
              " '$64K - $132K (Glassdoor est.)',\n",
              " '$39K - $82K (Glassdoor est.)',\n",
              " '$97K - $163K (Glassdoor est.)',\n",
              " '$68K - $131K (Glassdoor est.)',\n",
              " '$118K - $193K (Glassdoor est.)',\n",
              " '$70K - $130K (Glassdoor est.)',\n",
              " '$62K - $111K (Glassdoor est.)',\n",
              " '$83K - $139K (Glassdoor est.)',\n",
              " '$38K - $76K (Glassdoor est.)',\n",
              " '$51K - $99K (Glassdoor est.)',\n",
              " '$37K - $86K (Glassdoor est.)',\n",
              " '$88K - $186K (Glassdoor est.)',\n",
              " '$81K - $152K (Glassdoor est.)',\n",
              " '$94K - $162K (Glassdoor est.)',\n",
              " '$98K - $131K (Glassdoor est.)',\n",
              " '$11 - $19 Per Hour(Glassdoor est.)',\n",
              " '$93K-$103K (Glassdoor est.)',\n",
              " '$55K-$101K (Glassdoor est.)',\n",
              " '$56K - $103K (Glassdoor est.)',\n",
              " '$85K - $146K (Glassdoor est.)',\n",
              " '$97K - $179K (Glassdoor est.)',\n",
              " '$66K-$130K (Glassdoor est.)',\n",
              " '$57K - $114K (Glassdoor est.)',\n",
              " '$88K - $149K (Glassdoor est.)',\n",
              " '$86K - $154K (Glassdoor est.)',\n",
              " '$51K-$79K (Glassdoor est.)',\n",
              " '$65K - $107K (Glassdoor est.)',\n",
              " '$91K - $113K (Glassdoor est.)',\n",
              " '$68K - $140K (Glassdoor est.)',\n",
              " '$80K - $145K (Glassdoor est.)',\n",
              " '$61K-$94K (Glassdoor est.)',\n",
              " '$43K - $77K (Glassdoor est.)',\n",
              " '$102K - $172K (Glassdoor est.)',\n",
              " '$55K - $71K (Glassdoor est.)',\n",
              " '$81K - $140K (Glassdoor est.)',\n",
              " '$53K - $94K (Glassdoor est.)',\n",
              " '$73K - $139K (Glassdoor est.)',\n",
              " '$77K - $138K (Glassdoor est.)',\n",
              " '$66K - $127K (Glassdoor est.)',\n",
              " '$68K - $117K (Glassdoor est.)',\n",
              " '$64K-$97K (Glassdoor est.)',\n",
              " '$123K - $237K (Glassdoor est.)',\n",
              " '$61K - $103K (Glassdoor est.)',\n",
              " '$39K-$87K (Glassdoor est.)',\n",
              " '$131K - $157K (Glassdoor est.)',\n",
              " '$73K - $142K (Glassdoor est.)',\n",
              " '$113K - $175K (Glassdoor est.)',\n",
              " '$69K - $134K (Glassdoor est.)',\n",
              " '$80K - $130K (Glassdoor est.)',\n",
              " '$82K - $138K (Glassdoor est.)',\n",
              " '$71K - $136K (Glassdoor est.)',\n",
              " '$51K - $98K (Glassdoor est.)',\n",
              " '$95K - $166K (Glassdoor est.)',\n",
              " '$59K - $104K (Glassdoor est.)',\n",
              " '$98K - $158K (Glassdoor est.)',\n",
              " '$105K - $201K (Glassdoor est.)',\n",
              " '$39K-$69K (Glassdoor est.)',\n",
              " '$74K - $146K (Glassdoor est.)',\n",
              " '$67K - $115K (Glassdoor est.)',\n",
              " '$54K - $109K (Glassdoor est.)',\n",
              " '$123K - $170K (Glassdoor est.)',\n",
              " '$57K - $104K (Glassdoor est.)',\n",
              " '$110K - $200K (Glassdoor est.)',\n",
              " '$105K - $130K (Glassdoor est.)',\n",
              " '$54K - $91K (Glassdoor est.)',\n",
              " '$44K - $79K (Glassdoor est.)',\n",
              " '$45K - $90K (Glassdoor est.)',\n",
              " '$84K - $130K (Glassdoor est.)',\n",
              " '$45K - $88K (Glassdoor est.)',\n",
              " '$66K - $136K (Glassdoor est.)',\n",
              " '$96K - $161K (Glassdoor est.)',\n",
              " '$102K - $197K (Glassdoor est.)',\n",
              " '$50K - $65K (Glassdoor est.)',\n",
              " '$44K - $92K (Glassdoor est.)',\n",
              " '$72K - $124K (Glassdoor est.)',\n",
              " '$40K - $90K (Glassdoor est.)',\n",
              " '$66K - $123K (Glassdoor est.)',\n",
              " '$73K - $154K (Glassdoor est.)',\n",
              " '$62K - $120K (Glassdoor est.)',\n",
              " '$116K-$181K (Glassdoor est.)',\n",
              " '$89K - $158K (Glassdoor est.)',\n",
              " '$95K - $184K (Glassdoor est.)',\n",
              " '$70K - $79K (Glassdoor est.)',\n",
              " '$60K - $126K (Glassdoor est.)',\n",
              " '$54K - $107K (Glassdoor est.)',\n",
              " '$113K - $153K (Glassdoor est.)',\n",
              " '$71K-$122K (Glassdoor est.)',\n",
              " '$41K - $95K (Glassdoor est.)',\n",
              " '$51K - $93K (Glassdoor est.)',\n",
              " '$43K-$76K (Glassdoor est.)',\n",
              " '$95K - $167K (Glassdoor est.)',\n",
              " '$39K - $81K (Glassdoor est.)',\n",
              " '$58K - $125K (Glassdoor est.)',\n",
              " '$111K-$181K (Glassdoor est.)',\n",
              " ...}"
            ]
          },
          "metadata": {},
          "execution_count": 8
        }
      ]
    },
    {
      "cell_type": "code",
      "source": [
        "text3 = '$46K - $105K (Glassdoor est.)'"
      ],
      "metadata": {
        "id": "bJF8dWCmeTMD"
      },
      "execution_count": null,
      "outputs": []
    },
    {
      "cell_type": "code",
      "source": [
        "text3.split('(')"
      ],
      "metadata": {
        "colab": {
          "base_uri": "https://localhost:8080/"
        },
        "id": "EzowjiNnfNF6",
        "outputId": "f933ee10-9e50-4c50-b04d-534de5a07242"
      },
      "execution_count": null,
      "outputs": [
        {
          "output_type": "execute_result",
          "data": {
            "text/plain": [
              "['$46K - $105K ', 'Glassdoor est.)']"
            ]
          },
          "metadata": {},
          "execution_count": 10
        }
      ]
    },
    {
      "cell_type": "code",
      "source": [
        "df.info()"
      ],
      "metadata": {
        "colab": {
          "base_uri": "https://localhost:8080/"
        },
        "id": "SogSuFaMBbVf",
        "outputId": "6bfd6d53-7a08-405d-b169-411952bbcbfb"
      },
      "execution_count": null,
      "outputs": [
        {
          "output_type": "stream",
          "name": "stdout",
          "text": [
            "<class 'pandas.core.frame.DataFrame'>\n",
            "RangeIndex: 5892 entries, 0 to 5891\n",
            "Data columns (total 11 columns):\n",
            " #   Column             Non-Null Count  Dtype  \n",
            "---  ------             --------------  -----  \n",
            " 0   Job Title          5892 non-null   object \n",
            " 1   Salary Estimate    5892 non-null   object \n",
            " 2   Rating             5892 non-null   float64\n",
            " 3   Company Name       5892 non-null   object \n",
            " 4   Location           5892 non-null   object \n",
            " 5   Size               5892 non-null   object \n",
            " 6   Founded            5892 non-null   object \n",
            " 7   Type of ownership  5892 non-null   object \n",
            " 8   Industry           5892 non-null   object \n",
            " 9   Sector             5892 non-null   object \n",
            " 10  Revenue            5892 non-null   object \n",
            "dtypes: float64(1), object(10)\n",
            "memory usage: 506.5+ KB\n"
          ]
        }
      ]
    },
    {
      "cell_type": "code",
      "source": [
        "df['Salary Estimate'].value_counts()"
      ],
      "metadata": {
        "colab": {
          "base_uri": "https://localhost:8080/"
        },
        "id": "kjpOCl_LBiLF",
        "outputId": "22437e3f-3283-4e45-86d5-e2816a00f38d"
      },
      "execution_count": null,
      "outputs": [
        {
          "output_type": "execute_result",
          "data": {
            "text/plain": [
              "-1                               366\n",
              "$93K-$151K (Glassdoor est.)       62\n",
              "$113K-$180K (Glassdoor est.)      61\n",
              "$111K-$175K (Glassdoor est.)      60\n",
              "$71K-$122K (Glassdoor est.)       60\n",
              "                                ... \n",
              "$91K - $169K (Glassdoor est.)      1\n",
              "$44K - $93K (Glassdoor est.)       1\n",
              "$35K - $67K (Glassdoor est.)       1\n",
              "$41K - $85K (Glassdoor est.)       1\n",
              "$65 - $72 Per Hour                 1\n",
              "Name: Salary Estimate, Length: 1321, dtype: int64"
            ]
          },
          "metadata": {},
          "execution_count": 7
        }
      ]
    },
    {
      "cell_type": "code",
      "source": [
        "# Remove instances without salary estimates\n",
        "df = df[df['Salary Estimate'] != '-1']"
      ],
      "metadata": {
        "id": "sxCJE511BrRu"
      },
      "execution_count": null,
      "outputs": []
    },
    {
      "cell_type": "code",
      "source": [
        "df.info()"
      ],
      "metadata": {
        "colab": {
          "base_uri": "https://localhost:8080/"
        },
        "id": "BBRWfGX4B07z",
        "outputId": "ee27e78a-09f6-460e-c324-b52a400eb9f4"
      },
      "execution_count": null,
      "outputs": [
        {
          "output_type": "stream",
          "name": "stdout",
          "text": [
            "<class 'pandas.core.frame.DataFrame'>\n",
            "Int64Index: 5526 entries, 0 to 5891\n",
            "Data columns (total 11 columns):\n",
            " #   Column             Non-Null Count  Dtype  \n",
            "---  ------             --------------  -----  \n",
            " 0   Job Title          5526 non-null   object \n",
            " 1   Salary Estimate    5526 non-null   object \n",
            " 2   Rating             5526 non-null   float64\n",
            " 3   Company Name       5526 non-null   object \n",
            " 4   Location           5526 non-null   object \n",
            " 5   Size               5526 non-null   object \n",
            " 6   Founded            5526 non-null   object \n",
            " 7   Type of ownership  5526 non-null   object \n",
            " 8   Industry           5526 non-null   object \n",
            " 9   Sector             5526 non-null   object \n",
            " 10  Revenue            5526 non-null   object \n",
            "dtypes: float64(1), object(10)\n",
            "memory usage: 518.1+ KB\n"
          ]
        }
      ]
    },
    {
      "cell_type": "markdown",
      "source": [
        "#Replace Method"
      ],
      "metadata": {
        "id": "PDojXcFvDco8"
      }
    },
    {
      "cell_type": "code",
      "source": [
        " text = \"I love data science\""
      ],
      "metadata": {
        "id": "r4utNpEzDmV_"
      },
      "execution_count": null,
      "outputs": []
    },
    {
      "cell_type": "code",
      "source": [
        "text.replace('data science' , 'business intelligence')"
      ],
      "metadata": {
        "colab": {
          "base_uri": "https://localhost:8080/",
          "height": 35
        },
        "id": "9oiNeieJDwcw",
        "outputId": "8938e3a6-977a-4cb9-a50e-670bef30fdca"
      },
      "execution_count": null,
      "outputs": [
        {
          "output_type": "execute_result",
          "data": {
            "text/plain": [
              "'I love business intelligence'"
            ],
            "application/vnd.google.colaboratory.intrinsic+json": {
              "type": "string"
            }
          },
          "metadata": {},
          "execution_count": 21
        }
      ]
    },
    {
      "cell_type": "code",
      "source": [
        "# Remove K and $\n",
        "df['Salary Estimate'][0]"
      ],
      "metadata": {
        "colab": {
          "base_uri": "https://localhost:8080/",
          "height": 35
        },
        "id": "Htmgt-GKB5ya",
        "outputId": "efd321be-87f3-44bb-f4be-c8c3af5a4841"
      },
      "execution_count": null,
      "outputs": [
        {
          "output_type": "execute_result",
          "data": {
            "text/plain": [
              "'$111K-$181K (Glassdoor est.)'"
            ],
            "application/vnd.google.colaboratory.intrinsic+json": {
              "type": "string"
            }
          },
          "metadata": {},
          "execution_count": 17
        }
      ]
    },
    {
      "cell_type": "code",
      "source": [
        "df['Salary Estimate'][0].replace('$', '')"
      ],
      "metadata": {
        "colab": {
          "base_uri": "https://localhost:8080/",
          "height": 35
        },
        "id": "Cjr4U1QoCFH8",
        "outputId": "2cc606fc-0dcc-474c-d438-dfbc117359ed"
      },
      "execution_count": null,
      "outputs": [
        {
          "output_type": "execute_result",
          "data": {
            "text/plain": [
              "'111K-181K (Glassdoor est.)'"
            ],
            "application/vnd.google.colaboratory.intrinsic+json": {
              "type": "string"
            }
          },
          "metadata": {},
          "execution_count": 18
        }
      ]
    },
    {
      "cell_type": "code",
      "source": [
        "df['Salary Estimate'][0].replace('K', '')"
      ],
      "metadata": {
        "colab": {
          "base_uri": "https://localhost:8080/",
          "height": 35
        },
        "id": "fQC7qeksC5uP",
        "outputId": "63dd525d-6789-4c3c-8164-e4b4fc97f169"
      },
      "execution_count": null,
      "outputs": [
        {
          "output_type": "execute_result",
          "data": {
            "text/plain": [
              "'$111-$181 (Glassdoor est.)'"
            ],
            "application/vnd.google.colaboratory.intrinsic+json": {
              "type": "string"
            }
          },
          "metadata": {},
          "execution_count": 19
        }
      ]
    },
    {
      "cell_type": "code",
      "source": [
        "df['Salary Estimate'].replace({'$111K-$181K (Glassdoor est.)':'111-181 (Glassdoor est.)','$47K - $89K (Glassdoor est.)':'47 - 89 (Glassdoor est.)' })"
      ],
      "metadata": {
        "colab": {
          "base_uri": "https://localhost:8080/"
        },
        "id": "Gdm7EVklDXhJ",
        "outputId": "44413f5b-b556-4ce1-fc19-28edd4e6ce01"
      },
      "execution_count": null,
      "outputs": [
        {
          "output_type": "execute_result",
          "data": {
            "text/plain": [
              "0            111-181 (Glassdoor est.)\n",
              "1            111-181 (Glassdoor est.)\n",
              "2            111-181 (Glassdoor est.)\n",
              "3            111-181 (Glassdoor est.)\n",
              "4            111-181 (Glassdoor est.)\n",
              "                    ...              \n",
              "5882         47 - 89 (Glassdoor est.)\n",
              "5883    $66K - $113K (Glassdoor est.)\n",
              "5886    $67K - $111K (Glassdoor est.)\n",
              "5887     $42K - $76K (Glassdoor est.)\n",
              "5891               $65 - $72 Per Hour\n",
              "Name: Salary Estimate, Length: 5526, dtype: object"
            ]
          },
          "metadata": {},
          "execution_count": 28
        }
      ]
    },
    {
      "cell_type": "markdown",
      "source": [
        "# Apply Method"
      ],
      "metadata": {
        "id": "E4pK5yuEHpaE"
      }
    },
    {
      "cell_type": "code",
      "source": [
        "df.info()"
      ],
      "metadata": {
        "colab": {
          "base_uri": "https://localhost:8080/"
        },
        "id": "1EraPUIEXEMJ",
        "outputId": "03743896-9032-4375-b534-ae65dc4760c2"
      },
      "execution_count": null,
      "outputs": [
        {
          "output_type": "stream",
          "name": "stdout",
          "text": [
            "<class 'pandas.core.frame.DataFrame'>\n",
            "Int64Index: 5500 entries, 0 to 5887\n",
            "Data columns (total 12 columns):\n",
            " #   Column             Non-Null Count  Dtype  \n",
            "---  ------             --------------  -----  \n",
            " 0   Job Title          5500 non-null   object \n",
            " 1   Salary Estimate    5500 non-null   object \n",
            " 2   Rating             5500 non-null   float64\n",
            " 3   Company Name       5500 non-null   object \n",
            " 4   Location           5500 non-null   object \n",
            " 5   Size               5500 non-null   object \n",
            " 6   Founded            5500 non-null   object \n",
            " 7   Type of ownership  5500 non-null   object \n",
            " 8   Industry           5500 non-null   object \n",
            " 9   Sector             5500 non-null   object \n",
            " 10  Revenue            5500 non-null   object \n",
            " 11  Max_salary         5500 non-null   int64  \n",
            "dtypes: float64(1), int64(1), object(10)\n",
            "memory usage: 687.6+ KB\n"
          ]
        }
      ]
    },
    {
      "cell_type": "code",
      "source": [
        "int(3.5)"
      ],
      "metadata": {
        "colab": {
          "base_uri": "https://localhost:8080/"
        },
        "id": "DydsplfYXMPG",
        "outputId": "2ec3cdec-51fa-4052-e24c-4fbb00a53700"
      },
      "execution_count": null,
      "outputs": [
        {
          "output_type": "execute_result",
          "data": {
            "text/plain": [
              "3"
            ]
          },
          "metadata": {},
          "execution_count": 70
        }
      ]
    },
    {
      "cell_type": "code",
      "source": [
        "str(50)"
      ],
      "metadata": {
        "colab": {
          "base_uri": "https://localhost:8080/",
          "height": 35
        },
        "id": "n3-9z85nXThf",
        "outputId": "a8ba255e-d8f9-4e34-8caa-1c1eaf36190e"
      },
      "execution_count": null,
      "outputs": [
        {
          "output_type": "execute_result",
          "data": {
            "text/plain": [
              "'50'"
            ],
            "application/vnd.google.colaboratory.intrinsic+json": {
              "type": "string"
            }
          },
          "metadata": {},
          "execution_count": 71
        }
      ]
    },
    {
      "cell_type": "code",
      "source": [
        "a = 'jedhegdchj'"
      ],
      "metadata": {
        "id": "3dVS8k2NXrKe"
      },
      "execution_count": null,
      "outputs": []
    },
    {
      "cell_type": "code",
      "source": [],
      "metadata": {
        "colab": {
          "base_uri": "https://localhost:8080/"
        },
        "id": "m1NSP1UgXuyE",
        "outputId": "96e6c42f-bb79-4945-ee82-3ef47d937c23"
      },
      "execution_count": null,
      "outputs": [
        {
          "output_type": "execute_result",
          "data": {
            "text/plain": [
              "str"
            ]
          },
          "metadata": {},
          "execution_count": 76
        }
      ]
    },
    {
      "cell_type": "code",
      "source": [
        "df['Rating'].apply(int)"
      ],
      "metadata": {
        "id": "DaImXgEUWw6b"
      },
      "execution_count": null,
      "outputs": []
    },
    {
      "cell_type": "code",
      "source": [
        "\n",
        "# Create a Series of numbers\n",
        "data = pd.Series([1, 2, 3, 4, 5])\n",
        "\n",
        "# Define a custom function to square a number\n",
        "def square(x):\n",
        "    return x ** 2\n",
        "\n",
        "# Apply the square function to each element in the Series\n",
        "result = data.apply(square)\n",
        "\n",
        "print(result)\n"
      ],
      "metadata": {
        "colab": {
          "base_uri": "https://localhost:8080/"
        },
        "id": "PqV2AgFQHsO8",
        "outputId": "0887566a-7c4e-49f6-9ae2-ed3bc32c2316"
      },
      "execution_count": null,
      "outputs": [
        {
          "output_type": "stream",
          "name": "stdout",
          "text": [
            "0     1\n",
            "1     4\n",
            "2     9\n",
            "3    16\n",
            "4    25\n",
            "dtype: int64\n"
          ]
        }
      ]
    },
    {
      "cell_type": "code",
      "source": [
        "data1 = df['Salary Estimate']"
      ],
      "metadata": {
        "id": "YeNm2l8mI0LG"
      },
      "execution_count": null,
      "outputs": []
    },
    {
      "cell_type": "code",
      "source": [
        "# Define a custom function to remove '$'\n",
        "def doller_Remover(x):\n",
        "    return x.replace('$', '')"
      ],
      "metadata": {
        "id": "5aZTiE0AI-nk"
      },
      "execution_count": null,
      "outputs": []
    },
    {
      "cell_type": "code",
      "source": [
        "# Define a custom function to remove 'K'\n",
        "def K_Remover(x):\n",
        "    return x.replace('K', '')"
      ],
      "metadata": {
        "id": "fe2_DxXVJ1X3"
      },
      "execution_count": null,
      "outputs": []
    },
    {
      "cell_type": "code",
      "source": [
        "doller_Remover('We work to get $')"
      ],
      "metadata": {
        "colab": {
          "base_uri": "https://localhost:8080/",
          "height": 35
        },
        "id": "zKtthpSlJ7gX",
        "outputId": "827dc25a-a7e7-407e-853e-54e3af9570d6"
      },
      "execution_count": null,
      "outputs": [
        {
          "output_type": "execute_result",
          "data": {
            "text/plain": [
              "'We work to get '"
            ],
            "application/vnd.google.colaboratory.intrinsic+json": {
              "type": "string"
            }
          },
          "metadata": {},
          "execution_count": 36
        }
      ]
    },
    {
      "cell_type": "code",
      "source": [
        "K_Remover('Kar o kooshesh')"
      ],
      "metadata": {
        "colab": {
          "base_uri": "https://localhost:8080/",
          "height": 35
        },
        "id": "UR7JBreNKWyC",
        "outputId": "4a552ace-a196-43a8-bbf4-85640fb453ae"
      },
      "execution_count": null,
      "outputs": [
        {
          "output_type": "execute_result",
          "data": {
            "text/plain": [
              "'ar o kooshesh'"
            ],
            "application/vnd.google.colaboratory.intrinsic+json": {
              "type": "string"
            }
          },
          "metadata": {},
          "execution_count": 38
        }
      ]
    },
    {
      "cell_type": "code",
      "source": [
        "df['Salary Estimate'] = df['Salary Estimate'].apply(doller_Remover)"
      ],
      "metadata": {
        "colab": {
          "base_uri": "https://localhost:8080/"
        },
        "id": "OzEtTuGgKnqP",
        "outputId": "a22459cd-f762-48de-c9d4-c8a75b06a72a"
      },
      "execution_count": null,
      "outputs": [
        {
          "output_type": "stream",
          "name": "stderr",
          "text": [
            "<ipython-input-39-3f829e1d007f>:1: SettingWithCopyWarning: \n",
            "A value is trying to be set on a copy of a slice from a DataFrame.\n",
            "Try using .loc[row_indexer,col_indexer] = value instead\n",
            "\n",
            "See the caveats in the documentation: https://pandas.pydata.org/pandas-docs/stable/user_guide/indexing.html#returning-a-view-versus-a-copy\n",
            "  df['Salary Estimate'] = df['Salary Estimate'].apply(doller_Remover)\n"
          ]
        }
      ]
    },
    {
      "cell_type": "code",
      "source": [
        "df['Salary Estimate']"
      ],
      "metadata": {
        "colab": {
          "base_uri": "https://localhost:8080/"
        },
        "id": "EM8kWtIcPqE5",
        "outputId": "94549edf-acca-4d37-d2c6-0266ca86e7c9"
      },
      "execution_count": null,
      "outputs": [
        {
          "output_type": "execute_result",
          "data": {
            "text/plain": [
              "0        111K-181K (Glassdoor est.)\n",
              "1        111K-181K (Glassdoor est.)\n",
              "2        111K-181K (Glassdoor est.)\n",
              "3        111K-181K (Glassdoor est.)\n",
              "4        111K-181K (Glassdoor est.)\n",
              "                   ...             \n",
              "5882     47K - 89K (Glassdoor est.)\n",
              "5883    66K - 113K (Glassdoor est.)\n",
              "5886    67K - 111K (Glassdoor est.)\n",
              "5887     42K - 76K (Glassdoor est.)\n",
              "5891               65 - 72 Per Hour\n",
              "Name: Salary Estimate, Length: 5526, dtype: object"
            ]
          },
          "metadata": {},
          "execution_count": 40
        }
      ]
    },
    {
      "cell_type": "code",
      "source": [
        "df['Salary Estimate'] = df['Salary Estimate'].apply(K_Remover)"
      ],
      "metadata": {
        "colab": {
          "base_uri": "https://localhost:8080/"
        },
        "id": "ANLVu5M-PsW5",
        "outputId": "f1f9dcf3-1246-4bff-83ce-f30114992813"
      },
      "execution_count": null,
      "outputs": [
        {
          "output_type": "stream",
          "name": "stderr",
          "text": [
            "<ipython-input-41-4cedbc39b42d>:1: SettingWithCopyWarning: \n",
            "A value is trying to be set on a copy of a slice from a DataFrame.\n",
            "Try using .loc[row_indexer,col_indexer] = value instead\n",
            "\n",
            "See the caveats in the documentation: https://pandas.pydata.org/pandas-docs/stable/user_guide/indexing.html#returning-a-view-versus-a-copy\n",
            "  df['Salary Estimate'] = df['Salary Estimate'].apply(K_Remover)\n"
          ]
        }
      ]
    },
    {
      "cell_type": "code",
      "source": [
        "df['Salary Estimate']"
      ],
      "metadata": {
        "colab": {
          "base_uri": "https://localhost:8080/"
        },
        "id": "Y_qkuR9GPwuG",
        "outputId": "a6c6e992-0386-4734-daa2-43861f84074c"
      },
      "execution_count": null,
      "outputs": [
        {
          "output_type": "execute_result",
          "data": {
            "text/plain": [
              "0        111-181 (Glassdoor est.)\n",
              "1        111-181 (Glassdoor est.)\n",
              "2        111-181 (Glassdoor est.)\n",
              "3        111-181 (Glassdoor est.)\n",
              "4        111-181 (Glassdoor est.)\n",
              "                  ...            \n",
              "5882     47 - 89 (Glassdoor est.)\n",
              "5883    66 - 113 (Glassdoor est.)\n",
              "5886    67 - 111 (Glassdoor est.)\n",
              "5887     42 - 76 (Glassdoor est.)\n",
              "5891             65 - 72 Per Hour\n",
              "Name: Salary Estimate, Length: 5526, dtype: object"
            ]
          },
          "metadata": {},
          "execution_count": 42
        }
      ]
    },
    {
      "cell_type": "code",
      "source": [
        "df = df[~df['Salary Estimate'].str.contains('Hour')]"
      ],
      "metadata": {
        "id": "HNSn3enWPymR"
      },
      "execution_count": null,
      "outputs": []
    },
    {
      "cell_type": "code",
      "source": [
        "df['Salary Estimate']"
      ],
      "metadata": {
        "colab": {
          "base_uri": "https://localhost:8080/"
        },
        "id": "i-D7ygzKTLgt",
        "outputId": "f1fbaed0-38b9-4b58-a6fd-9b48b95f98b9"
      },
      "execution_count": null,
      "outputs": [
        {
          "output_type": "execute_result",
          "data": {
            "text/plain": [
              "0        111-181 (Glassdoor est.)\n",
              "1        111-181 (Glassdoor est.)\n",
              "2        111-181 (Glassdoor est.)\n",
              "3        111-181 (Glassdoor est.)\n",
              "4        111-181 (Glassdoor est.)\n",
              "                  ...            \n",
              "5881     38 - 64 (Glassdoor est.)\n",
              "5882     47 - 89 (Glassdoor est.)\n",
              "5883    66 - 113 (Glassdoor est.)\n",
              "5886    67 - 111 (Glassdoor est.)\n",
              "5887     42 - 76 (Glassdoor est.)\n",
              "Name: Salary Estimate, Length: 5500, dtype: object"
            ]
          },
          "metadata": {},
          "execution_count": 44
        }
      ]
    },
    {
      "cell_type": "code",
      "source": [
        "df.info()"
      ],
      "metadata": {
        "colab": {
          "base_uri": "https://localhost:8080/"
        },
        "id": "4RXZ5gE8TN1a",
        "outputId": "eb20c03d-4959-4db8-9eff-d84dc4e0a7a2"
      },
      "execution_count": null,
      "outputs": [
        {
          "output_type": "stream",
          "name": "stdout",
          "text": [
            "<class 'pandas.core.frame.DataFrame'>\n",
            "Int64Index: 5500 entries, 0 to 5887\n",
            "Data columns (total 11 columns):\n",
            " #   Column             Non-Null Count  Dtype  \n",
            "---  ------             --------------  -----  \n",
            " 0   Job Title          5500 non-null   object \n",
            " 1   Salary Estimate    5500 non-null   object \n",
            " 2   Rating             5500 non-null   float64\n",
            " 3   Company Name       5500 non-null   object \n",
            " 4   Location           5500 non-null   object \n",
            " 5   Size               5500 non-null   object \n",
            " 6   Founded            5500 non-null   object \n",
            " 7   Type of ownership  5500 non-null   object \n",
            " 8   Industry           5500 non-null   object \n",
            " 9   Sector             5500 non-null   object \n",
            " 10  Revenue            5500 non-null   object \n",
            "dtypes: float64(1), object(10)\n",
            "memory usage: 515.6+ KB\n"
          ]
        }
      ]
    },
    {
      "cell_type": "code",
      "source": [
        "df['Salary Estimate'][0]"
      ],
      "metadata": {
        "colab": {
          "base_uri": "https://localhost:8080/",
          "height": 35
        },
        "id": "c3iu_zZ6Tnxz",
        "outputId": "79a7ccf8-f1ff-4dbe-f632-f6151bc845d7"
      },
      "execution_count": null,
      "outputs": [
        {
          "output_type": "execute_result",
          "data": {
            "text/plain": [
              "'111-181 (Glassdoor est.)'"
            ],
            "application/vnd.google.colaboratory.intrinsic+json": {
              "type": "string"
            }
          },
          "metadata": {},
          "execution_count": 47
        }
      ]
    },
    {
      "cell_type": "code",
      "source": [
        "df['Salary Estimate'][0].split('-')"
      ],
      "metadata": {
        "colab": {
          "base_uri": "https://localhost:8080/"
        },
        "id": "DmWzgLtmTn-s",
        "outputId": "99cdb5e3-7e97-42e5-f659-4ea30708ca6d"
      },
      "execution_count": null,
      "outputs": [
        {
          "output_type": "execute_result",
          "data": {
            "text/plain": [
              "['111', '181 (Glassdoor est.)']"
            ]
          },
          "metadata": {},
          "execution_count": 48
        }
      ]
    },
    {
      "cell_type": "code",
      "source": [
        "df['Salary Estimate'][0].split('-')[0]"
      ],
      "metadata": {
        "colab": {
          "base_uri": "https://localhost:8080/",
          "height": 35
        },
        "id": "AlKKENNHUA1x",
        "outputId": "856393a6-0fc1-4566-f85b-da04127aed5d"
      },
      "execution_count": null,
      "outputs": [
        {
          "output_type": "execute_result",
          "data": {
            "text/plain": [
              "'111'"
            ],
            "application/vnd.google.colaboratory.intrinsic+json": {
              "type": "string"
            }
          },
          "metadata": {},
          "execution_count": 49
        }
      ]
    },
    {
      "cell_type": "code",
      "source": [
        "df['Max_salary'] = df['Salary Estimate'][0].split('-')[1].replace('(Glassdoor est.)', '')"
      ],
      "metadata": {
        "id": "USrL1TIiU-3t"
      },
      "execution_count": null,
      "outputs": []
    },
    {
      "cell_type": "code",
      "source": [
        "df.info()"
      ],
      "metadata": {
        "colab": {
          "base_uri": "https://localhost:8080/"
        },
        "id": "CXKEc93BVhSb",
        "outputId": "48654943-9001-4f2b-ecb5-1a3f9cdcf969"
      },
      "execution_count": null,
      "outputs": [
        {
          "output_type": "stream",
          "name": "stdout",
          "text": [
            "<class 'pandas.core.frame.DataFrame'>\n",
            "Int64Index: 5500 entries, 0 to 5887\n",
            "Data columns (total 12 columns):\n",
            " #   Column             Non-Null Count  Dtype  \n",
            "---  ------             --------------  -----  \n",
            " 0   Job Title          5500 non-null   object \n",
            " 1   Salary Estimate    5500 non-null   object \n",
            " 2   Rating             5500 non-null   float64\n",
            " 3   Company Name       5500 non-null   object \n",
            " 4   Location           5500 non-null   object \n",
            " 5   Size               5500 non-null   object \n",
            " 6   Founded            5500 non-null   object \n",
            " 7   Type of ownership  5500 non-null   object \n",
            " 8   Industry           5500 non-null   object \n",
            " 9   Sector             5500 non-null   object \n",
            " 10  Revenue            5500 non-null   object \n",
            " 11  Max_salary         5500 non-null   int64  \n",
            "dtypes: float64(1), int64(1), object(10)\n",
            "memory usage: 687.6+ KB\n"
          ]
        }
      ]
    },
    {
      "cell_type": "code",
      "source": [
        "df['Max_salary'] = df['Max_salary'].apply(int)"
      ],
      "metadata": {
        "id": "5yyQu3r5WL41"
      },
      "execution_count": null,
      "outputs": []
    },
    {
      "cell_type": "code",
      "source": [
        "df.info()"
      ],
      "metadata": {
        "colab": {
          "base_uri": "https://localhost:8080/"
        },
        "id": "QhI7cRMIWXOc",
        "outputId": "033ca3ae-2d01-457b-c2c1-6e10063dc967"
      },
      "execution_count": null,
      "outputs": [
        {
          "output_type": "stream",
          "name": "stdout",
          "text": [
            "<class 'pandas.core.frame.DataFrame'>\n",
            "Int64Index: 5500 entries, 0 to 5887\n",
            "Data columns (total 12 columns):\n",
            " #   Column             Non-Null Count  Dtype  \n",
            "---  ------             --------------  -----  \n",
            " 0   Job Title          5500 non-null   object \n",
            " 1   Salary Estimate    5500 non-null   object \n",
            " 2   Rating             5500 non-null   float64\n",
            " 3   Company Name       5500 non-null   object \n",
            " 4   Location           5500 non-null   object \n",
            " 5   Size               5500 non-null   object \n",
            " 6   Founded            5500 non-null   object \n",
            " 7   Type of ownership  5500 non-null   object \n",
            " 8   Industry           5500 non-null   object \n",
            " 9   Sector             5500 non-null   object \n",
            " 10  Revenue            5500 non-null   object \n",
            " 11  Max_salary         5500 non-null   object \n",
            "dtypes: float64(1), object(11)\n",
            "memory usage: 687.6+ KB\n"
          ]
        }
      ]
    },
    {
      "cell_type": "code",
      "source": [],
      "metadata": {
        "id": "GtZr9xe7WasA"
      },
      "execution_count": null,
      "outputs": []
    }
  ]
}